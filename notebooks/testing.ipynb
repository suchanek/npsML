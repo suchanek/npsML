#

#Data management
import pandas as pd
import numpy as np
import re
#from pandas_profiling import ProfileReport

#TextBlob Featuresc
from textblob import TextBlob

#Plotting
import matplotlib.pyplot as plt

#SciKit-Learn
from sklearn.model_selection import train_test_split
from sklearn.metrics import accuracy_score
from sklearn.metrics import confusion_matrix, ConfusionMatrixDisplay

#nltk
import nltk
from nltk.corpus import stopwords
from nltk.tokenize import word_tokenize
from nltk.stem import WordNetLemmatizer
nltk.download('punkt')

#Tensorflow / Keras
import tensorflow as tf
from tensorflow.keras.preprocessing.text import Tokenizer

from google.colab import drive
drive.mount('/content/drive', force_remount=True)

# Insert the directory
import sys, os
sys.path.insert(0, '/content/drive/My Drive/Colab Notebooks')

os.chdir('/content/drive/My Drive/data')
from collections import Counter
#import bby
import util as ut

np.random.seed(0)
from tensorflow.keras.optimizers.experimental import AdamW
