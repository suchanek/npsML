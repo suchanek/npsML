{
 "cells": [
  {
   "cell_type": "code",
   "execution_count": null,
   "metadata": {},
   "outputs": [],
   "source": []
  },
  {
   "cell_type": "code",
   "execution_count": 2,
   "metadata": {},
   "outputs": [],
   "source": [
    "# library imports\n",
    "import re\n",
    "import os\n",
    "import pandas as pd\n",
    "import matplotlib.pyplot as plt \n",
    "\n",
    "# Bestbuy specifics\n",
    "import bby\n",
    "import bby.util as ut\n",
    "\n",
    "from bby.util import clean_doc, tb_enrich, nps_cleanstring\n",
    "from bby.util import lemma_remove_stopwords, get_wordnet_pos, nps_lemmatise\n",
    "null_str = \"xyxyxz\"\n"
   ]
  },
  {
   "cell_type": "code",
   "execution_count": 3,
   "metadata": {},
   "outputs": [],
   "source": [
    "# create directories for train/test split of nps data in the format needed by\n",
    "# keras read_text_dataset\n",
    "#\n",
    "import os\n",
    "import shutil\n",
    "import numpy as np\n",
    "\n",
    "def write_NPS_text_dataset(input_filename, rootpath='npsdata', frac=0.1):\n",
    "    curr_dir = os.getcwd()\n",
    "    data_dir = \"/users/suchanek/repos/npsml/data/clean\"\n",
    "    os.chdir(data_dir)\n",
    "    class_list = ['detractor', 'passive', 'promoter']\n",
    "\n",
    "    # try to read the input file\n",
    "    try:\n",
    "        os.path.exists(input_filename)\n",
    "    except OSError as error:\n",
    "        print(error)\n",
    "        print(f'Cant read input file {input_filename}. Fatal, exiting')\n",
    "        return\n",
    "    \n",
    "    NPS_df = pd.read_csv(input_filename, index_col='respid2')\n",
    "    # make the train and test subdirs for trainpath and testpath\n",
    "    trainpath = os.path.join(rootpath,'train')\n",
    "    testpath = os.path.join(rootpath,'test')\n",
    "    # print(f'train: {trainpath}, test: {testpath}')\n",
    "\n",
    "    # remove the entire tree first\n",
    "    try:\n",
    "        os.chdir(data_dir)\n",
    "        shutil.rmtree(rootpath)\n",
    "    except OSError as error:\n",
    "        print(error)\n",
    "\n",
    "    try: \n",
    "        os.makedirs(trainpath) \n",
    "    except OSError as error: \n",
    "        print(error)  \n",
    "\n",
    "    try: \n",
    "        os.makedirs(testpath) \n",
    "    except OSError as error: \n",
    "        print(error)  \n",
    "    \n",
    "    # now make the class subdirectories for training and testing\n",
    "    os.chdir(data_dir)\n",
    "    os.chdir(trainpath)\n",
    "    for cls in class_list:\n",
    "        os.mkdir(cls)\n",
    "    \n",
    "    os.chdir(data_dir)\n",
    "    os.chdir(testpath)\n",
    "    for cls in class_list:\n",
    "        os.mkdir(cls)\n",
    "    \n",
    "    prom_list_mask = NPS_df['NPS_Code'] == 2\n",
    "    pass_list_mask = NPS_df['NPS_Code'] == 1\n",
    "    det_list_mask = NPS_df['NPS_Code'] == 0\n",
    "\n",
    "    prom_list = NPS_df[prom_list_mask]\n",
    "    pass_list = NPS_df[pass_list_mask]\n",
    "    det_list = NPS_df[det_list_mask]\n",
    "\n",
    "    prom_list_len = prom_list.shape[0]\n",
    "    pass_list_len = pass_list.shape[0]\n",
    "    det_list_len = det_list.shape[0]\n",
    "\n",
    "    prom_sample_size = int(np.round(prom_list_len * frac))\n",
    "    pass_sample_size = int(np.round(pass_list_len * frac))\n",
    "    det_sample_size = int(np.round(det_list_len * frac))\n",
    "\n",
    "    # these subsets represent the test subset\n",
    "    prom_list2 = prom_list.sample(prom_sample_size)\n",
    "    pass_list2 = pass_list.sample(pass_list_len)\n",
    "    det_list2 = det_list.sample(det_list_len)\n",
    "\n",
    "    prom_list_train = prom_list[~prom_list.apply(tuple,1).isin(prom_list2.apply(tuple, 1))]\n",
    "    pass_list_train = pass_list[~pass_list.apply(tuple,1).isin(pass_list2.apply(tuple, 1))]\n",
    "    det_list_train = prom_list[~det_list.apply(tuple,1).isin(det_list2.apply(tuple, 1))]\n",
    "\n",
    "    print(f'Promoters:')\n",
    "    print(f'Training size: {prom_list_train.shape[0]}')\n",
    "    print(f'Testing size {prom_list2.shape[0]}')\n",
    "    print(f'Original size: {prom_list.shape[0]}')\n",
    "        \n",
    "    print(f'Passives:')\n",
    "    print(f'Training size: {pass_list_train.shape[0]}')\n",
    "    print(f'Testing size {pass_list2.shape[0]}')\n",
    "    print(f'Original size: {pass_list.shape[0]}')\n",
    "    \n",
    "    print(f'Detractors:')\n",
    "    print(f'Training size: {det_list_train.shape[0]}')\n",
    "    print(f'Testing size {det_list2.shape[0]}')\n",
    "    print(f'Original size: {det_list.shape[0]}')\n",
    "    \n",
    "    \n",
    "    # Checking balance of target classes after equalization\n",
    "    sentiments = list(NPS_df[\"NPS® Breakdown\"].unique())\n",
    "    sentiment_nums = [len(NPS_df[NPS_df[\"NPS® Breakdown\"] == sentiment]) / len(NPS_df) for sentiment in sentiments]\n",
    "\n",
    "    print (f'After redistribution: Promoters: {prom_sample_size}, Passives: {pass_list_len}, Detractors: {det_list_len}')\n",
    "    plt.bar(sentiments, sentiment_nums)\n",
    "    os.chdir(curr_dir)\n",
    "    return\n",
    "    "
   ]
  },
  {
   "cell_type": "code",
   "execution_count": 4,
   "metadata": {},
   "outputs": [],
   "source": [
    "# print(f'current: {os.getcwd()}')\n",
    "# os.listdir()"
   ]
  },
  {
   "cell_type": "markdown",
   "metadata": {},
   "source": []
  },
  {
   "cell_type": "code",
   "execution_count": 5,
   "metadata": {},
   "outputs": [
    {
     "name": "stdout",
     "output_type": "stream",
     "text": [
      "Training size: 9116\n",
      "Testing size 1013\n",
      "Original size: 10131\n",
      "After redistribution: Promoters: 1013, Passives: 8881, Detractors: 11381\n"
     ]
    },
    {
     "data": {
      "image/png": "[encoded data removed]",
      "text/plain": [
       "<Figure size 432x288 with 1 Axes>"
      ]
     },
     "metadata": {
      "needs_background": "light"
     },
     "output_type": "display_data"
    }
   ],
   "source": [
    "os.chdir('/users/suchanek/repos/npsML/data/clean')\n",
    "os.listdir()\n",
    "write_NPS_text_dataset('NPS_NATL_subset.csv')"
   ]
  },
  {
   "cell_type": "code",
   "execution_count": null,
   "metadata": {},
   "outputs": [],
   "source": []
  }
 ],
 "metadata": {
  "kernelspec": {
   "display_name": "Python 3.9.13",
   "language": "python",
   "name": "python3"
  },
  "language_info": {
   "codemirror_mode": {
    "name": "ipython",
    "version": 3
   },
   "file_extension": ".py",
   "mimetype": "text/x-python",
   "name": "python",
   "nbconvert_exporter": "python",
   "pygments_lexer": "ipython3",
   "version": "3.9.13"
  },
  "orig_nbformat": 4,
  "vscode": {
   "interpreter": {
    "hash": "0e9fb08708a348826ea2596edb892bc9ad5e5b82e2f5c7730c1edba9ecbcf32d"
   }
  }
 },
 "nbformat": 4,
 "nbformat_minor": 2
}
