{
 "cells": [
  {
   "cell_type": "markdown",
   "id": "a33b5112",
   "metadata": {},
   "source": [
    "## Overview\n",
    "***\n",
    "*A chatbot or chatterbot is a software application used to conduct an on-line chat conversation via text or text-to-speech, in lieu of providing direct contact with a live human agent chatbot is a type of software that can help human by automating conversations and interact with them through messaging platforms. here are different approaches and tools that you can use when building chatbots. Depending on the use case you want to address, some technologies are more appropriate than others. Combining artificial intelligence forms such as natural language processing, machine learning, and semantic understanding may be the best option to achieve the desired results.*\n",
    "***\n"
   ]
  },
  {
   "cell_type": "markdown",
   "id": "d1bcc417",
   "metadata": {},
   "source": [
    "## How to build a Chatbot for our task?\n",
    "***\n",
    "ChatBots are usually Task specific means if there a chatbot which serves only food delivery app have trained on a dataset which\n",
    "completely different from the dataset on which chatbot which serves online healthcare app. Similary, for this kaggle problem\n",
    "we have provided with movie dataset which may feel that its not specific to any task, but actually it is specific to how people\n",
    "will interect generally as these movie dialogues are nothing but daily life conversation between people however, that chatbot\n",
    "may reply things which sounds too much dramatic and filmy like some dialogue of Tom cruise, shah rukh khan etc.\n",
    "\n",
    "We can approch this problem by applying Neural network models like encoder-decoder architecture with some attention mechanism.\n",
    "***"
   ]
  },
  {
   "cell_type": "code",
   "execution_count": 2,
   "id": "0a2e9785",
   "metadata": {},
   "outputs": [],
   "source": [
    "import numpy as np\n",
    "import codecs\n",
    "import tensorflow as tf\n",
    "import pandas as pd\n",
    "import ast\n",
    "import tqdm\n",
    "import matplotlib.pyplot as plt\n",
    "%matplotlib inline\n",
    "import seaborn as sns\n",
    "import pandas as pd\n",
    "import re\n",
    "import tensorflow as tf\n",
    "from tensorflow.keras.layers import Embedding, LSTM, Dense\n",
    "from tensorflow.keras.models import Model\n",
    "from tensorflow.keras.preprocessing.text import Tokenizer\n",
    "from tensorflow.keras.preprocessing.sequence import pad_sequences\n",
    "import numpy as np\n",
    "import re\n",
    "import warnings\n",
    "warnings.filterwarnings('ignore')"
   ]
  },
  {
   "cell_type": "code",
   "execution_count": 3,
   "id": "64363216",
   "metadata": {},
   "outputs": [],
   "source": [
    "dialogs = pd.read_csv('../data/clean/nps_NATL_subset.csv')"
   ]
  },
  {
   "cell_type": "code",
   "execution_count": 4,
   "id": "3fa88cd9",
   "metadata": {},
   "outputs": [
    {
     "name": "stdout",
     "output_type": "stream",
     "text": [
      "(23575, 13)\n"
     ]
    },
    {
     "data": {
      "text/html": [
       "<div>\n",
       "<style scoped>\n",
       "    .dataframe tbody tr th:only-of-type {\n",
       "        vertical-align: middle;\n",
       "    }\n",
       "\n",
       "    .dataframe tbody tr th {\n",
       "        vertical-align: top;\n",
       "    }\n",
       "\n",
       "    .dataframe thead th {\n",
       "        text-align: right;\n",
       "    }\n",
       "</style>\n",
       "<table border=\"1\" class=\"dataframe\">\n",
       "  <thead>\n",
       "    <tr style=\"text-align: right;\">\n",
       "      <th></th>\n",
       "      <th>Location</th>\n",
       "      <th>Workforce</th>\n",
       "      <th>NPS® Breakdown</th>\n",
       "      <th>respid2</th>\n",
       "      <th>NPS_Code</th>\n",
       "      <th>NPSCommentCleaned</th>\n",
       "      <th>NPSCommentLemmatised</th>\n",
       "      <th>NPSCommentPolarity</th>\n",
       "      <th>NPSCommentSubjectivity</th>\n",
       "      <th>OverallCommentCleaned</th>\n",
       "      <th>OverallCommentLemmatised</th>\n",
       "      <th>OverallCommentPolarity</th>\n",
       "      <th>OverallCommentSubjectivity</th>\n",
       "    </tr>\n",
       "  </thead>\n",
       "  <tbody>\n",
       "    <tr>\n",
       "      <th>0</th>\n",
       "      <td>40</td>\n",
       "      <td>Precinct</td>\n",
       "      <td>Promoter</td>\n",
       "      <td>6985293</td>\n",
       "      <td>2</td>\n",
       "      <td>wonderful service and value</td>\n",
       "      <td>Wonderful service and value</td>\n",
       "      <td>1.000000</td>\n",
       "      <td>1.00</td>\n",
       "      <td>xyxyxz</td>\n",
       "      <td>xyxyxz</td>\n",
       "      <td>0.000000</td>\n",
       "      <td>0.000000</td>\n",
       "    </tr>\n",
       "    <tr>\n",
       "      <th>1</th>\n",
       "      <td>358</td>\n",
       "      <td>Precinct</td>\n",
       "      <td>Promoter</td>\n",
       "      <td>6750379</td>\n",
       "      <td>2</td>\n",
       "      <td>staff are professional and knowledgeable</td>\n",
       "      <td>Staff are professional and knowledgeable</td>\n",
       "      <td>0.100000</td>\n",
       "      <td>0.10</td>\n",
       "      <td>staff friendly and helpful</td>\n",
       "      <td>Staff friendly and helpful</td>\n",
       "      <td>0.375000</td>\n",
       "      <td>0.500000</td>\n",
       "    </tr>\n",
       "    <tr>\n",
       "      <th>2</th>\n",
       "      <td>1539</td>\n",
       "      <td>Precinct</td>\n",
       "      <td>Promoter</td>\n",
       "      <td>6876115</td>\n",
       "      <td>2</td>\n",
       "      <td>joey was very helpful</td>\n",
       "      <td>Joey was very helpful</td>\n",
       "      <td>0.200000</td>\n",
       "      <td>0.30</td>\n",
       "      <td>my first time there appointments ran very far ...</td>\n",
       "      <td>My first time there, appointments ran very far...</td>\n",
       "      <td>0.004042</td>\n",
       "      <td>0.536037</td>\n",
       "    </tr>\n",
       "    <tr>\n",
       "      <th>3</th>\n",
       "      <td>145</td>\n",
       "      <td>Precinct</td>\n",
       "      <td>Promoter</td>\n",
       "      <td>6804405</td>\n",
       "      <td>2</td>\n",
       "      <td>excellent staff when item was returned for ser...</td>\n",
       "      <td>Excellent staff when item was returned for ser...</td>\n",
       "      <td>0.666667</td>\n",
       "      <td>0.75</td>\n",
       "      <td>xyxyxz</td>\n",
       "      <td>xyxyxz</td>\n",
       "      <td>0.000000</td>\n",
       "      <td>0.000000</td>\n",
       "    </tr>\n",
       "    <tr>\n",
       "      <th>4</th>\n",
       "      <td>444</td>\n",
       "      <td>Autotech</td>\n",
       "      <td>Promoter</td>\n",
       "      <td>6920693</td>\n",
       "      <td>2</td>\n",
       "      <td>everyone was very friendly and helpful</td>\n",
       "      <td>Everyone was very friendly and helpful.</td>\n",
       "      <td>0.487500</td>\n",
       "      <td>0.65</td>\n",
       "      <td>xyxyxz</td>\n",
       "      <td>xyxyxz</td>\n",
       "      <td>0.000000</td>\n",
       "      <td>0.000000</td>\n",
       "    </tr>\n",
       "  </tbody>\n",
       "</table>\n",
       "</div>"
      ],
      "text/plain": [
       "   Location Workforce NPS® Breakdown  respid2  NPS_Code  \\\n",
       "0        40  Precinct       Promoter  6985293         2   \n",
       "1       358  Precinct       Promoter  6750379         2   \n",
       "2      1539  Precinct       Promoter  6876115         2   \n",
       "3       145  Precinct       Promoter  6804405         2   \n",
       "4       444  Autotech       Promoter  6920693         2   \n",
       "\n",
       "                                   NPSCommentCleaned  \\\n",
       "0                        wonderful service and value   \n",
       "1           staff are professional and knowledgeable   \n",
       "2                              joey was very helpful   \n",
       "3  excellent staff when item was returned for ser...   \n",
       "4             everyone was very friendly and helpful   \n",
       "\n",
       "                                NPSCommentLemmatised  NPSCommentPolarity  \\\n",
       "0                        Wonderful service and value            1.000000   \n",
       "1           Staff are professional and knowledgeable            0.100000   \n",
       "2                              Joey was very helpful            0.200000   \n",
       "3  Excellent staff when item was returned for ser...            0.666667   \n",
       "4            Everyone was very friendly and helpful.            0.487500   \n",
       "\n",
       "   NPSCommentSubjectivity                              OverallCommentCleaned  \\\n",
       "0                    1.00                                             xyxyxz   \n",
       "1                    0.10                         staff friendly and helpful   \n",
       "2                    0.30  my first time there appointments ran very far ...   \n",
       "3                    0.75                                             xyxyxz   \n",
       "4                    0.65                                             xyxyxz   \n",
       "\n",
       "                            OverallCommentLemmatised  OverallCommentPolarity  \\\n",
       "0                                             xyxyxz                0.000000   \n",
       "1                         Staff friendly and helpful                0.375000   \n",
       "2  My first time there, appointments ran very far...                0.004042   \n",
       "3                                             xyxyxz                0.000000   \n",
       "4                                             xyxyxz                0.000000   \n",
       "\n",
       "   OverallCommentSubjectivity  \n",
       "0                    0.000000  \n",
       "1                    0.500000  \n",
       "2                    0.536037  \n",
       "3                    0.000000  \n",
       "4                    0.000000  "
      ]
     },
     "execution_count": 4,
     "metadata": {},
     "output_type": "execute_result"
    }
   ],
   "source": [
    "print(dialogs.shape)\n",
    "dialogs.head()"
   ]
  },
  {
   "cell_type": "markdown",
   "id": "dd281bc4",
   "metadata": {},
   "source": [
    "### We have given:-\n",
    "1. ID: serial number\n",
    "2. question: string representing questions\n",
    "3. answer: string representing answers\n",
    "4. question_as_int: tokenized question\n",
    "5. answer_as_int: tokenized answer\n",
    "6. question_len: no. of words in question\n",
    "7. answer_len: no. of words in answer"
   ]
  },
  {
   "cell_type": "markdown",
   "id": "3fa21433",
   "metadata": {},
   "source": [
    "##### Main concern is (question, answer) pair columns only, on which I'll train the model"
   ]
  },
  {
   "cell_type": "code",
   "execution_count": 44,
   "id": "82fb17d0",
   "metadata": {
    "scrolled": true
   },
   "outputs": [
    {
     "data": {
      "text/html": [
       "<div>\n",
       "<style scoped>\n",
       "    .dataframe tbody tr th:only-of-type {\n",
       "        vertical-align: middle;\n",
       "    }\n",
       "\n",
       "    .dataframe tbody tr th {\n",
       "        vertical-align: top;\n",
       "    }\n",
       "\n",
       "    .dataframe thead th {\n",
       "        text-align: right;\n",
       "    }\n",
       "</style>\n",
       "<table border=\"1\" class=\"dataframe\">\n",
       "  <thead>\n",
       "    <tr style=\"text-align: right;\">\n",
       "      <th></th>\n",
       "      <th>NPSCommentCleaned</th>\n",
       "    </tr>\n",
       "  </thead>\n",
       "  <tbody>\n",
       "    <tr>\n",
       "      <th>0</th>\n",
       "      <td>wonderful service and value</td>\n",
       "    </tr>\n",
       "    <tr>\n",
       "      <th>1</th>\n",
       "      <td>staff are professional and knowledgeable</td>\n",
       "    </tr>\n",
       "    <tr>\n",
       "      <th>2</th>\n",
       "      <td>joey was very helpful</td>\n",
       "    </tr>\n",
       "    <tr>\n",
       "      <th>3</th>\n",
       "      <td>excellent staff when item was returned for ser...</td>\n",
       "    </tr>\n",
       "    <tr>\n",
       "      <th>4</th>\n",
       "      <td>everyone was very friendly and helpful</td>\n",
       "    </tr>\n",
       "  </tbody>\n",
       "</table>\n",
       "</div>"
      ],
      "text/plain": [
       "                                   NPSCommentCleaned\n",
       "0                        wonderful service and value\n",
       "1           staff are professional and knowledgeable\n",
       "2                              joey was very helpful\n",
       "3  excellent staff when item was returned for ser...\n",
       "4             everyone was very friendly and helpful"
      ]
     },
     "execution_count": 44,
     "metadata": {},
     "output_type": "execute_result"
    }
   ],
   "source": [
    "data = dialogs[['NPSCommentCleaned']]\n",
    "data['NPSCommentCleaned'] = data['NPSCommentCleaned'].astype(str)\n",
    "data.head()"
   ]
  },
  {
   "cell_type": "markdown",
   "id": "abe21a91",
   "metadata": {},
   "source": [
    "##### Cheking if there is null or not"
   ]
  },
  {
   "cell_type": "code",
   "execution_count": 45,
   "id": "6e5c786d",
   "metadata": {},
   "outputs": [
    {
     "data": {
      "text/plain": [
       "NPSCommentCleaned    False\n",
       "dtype: bool"
      ]
     },
     "execution_count": 45,
     "metadata": {},
     "output_type": "execute_result"
    }
   ],
   "source": [
    "data.isnull().any()"
   ]
  },
  {
   "cell_type": "markdown",
   "id": "e90c93b2",
   "metadata": {},
   "source": [
    "##### Fetching all words which are like won't, aren't etc just to understand variety as we will convert all those to their proper forms"
   ]
  },
  {
   "cell_type": "code",
   "execution_count": 46,
   "id": "a8242d98",
   "metadata": {},
   "outputs": [],
   "source": [
    "total_strings = data['NPSCommentCleaned'].values.tolist()\n",
    "all_strings = \" \".join(total_strings)\n",
    "pattern = re.compile(r\"[\\w]*'[\\w]*\")\n",
    "matchings = re.findall(pattern, all_strings)"
   ]
  },
  {
   "cell_type": "code",
   "execution_count": 47,
   "id": "85818842",
   "metadata": {},
   "outputs": [
    {
     "data": {
      "text/plain": [
       "set()"
      ]
     },
     "execution_count": 47,
     "metadata": {},
     "output_type": "execute_result"
    }
   ],
   "source": [
    "set(matchings)"
   ]
  },
  {
   "cell_type": "markdown",
   "id": "62e7cd3d",
   "metadata": {},
   "source": [
    "## Preprocessing\n",
    "Removing special characters and doing decontraction"
   ]
  },
  {
   "cell_type": "code",
   "execution_count": 48,
   "id": "523a95df",
   "metadata": {},
   "outputs": [],
   "source": [
    "from bby.util import remove_stopwords\n",
    "def decontractions(phrase):\n",
    "    #specific\n",
    "    phrase = re.sub(r\"won\\'t\", \"will not\", phrase)\n",
    "    phrase = re.sub(r\"can\\'t\", \"can not\", phrase)\n",
    "    phrase = re.sub(r\"won\\’t\", \"will not\", phrase)\n",
    "    phrase = re.sub(r\"can\\’t\", \"can not\", phrase)\n",
    "\n",
    "    # general\n",
    "    phrase = re.sub(r\"n\\'t\", \" not\", phrase)\n",
    "    phrase = re.sub(r\"\\'re\", \" are\", phrase)\n",
    "    phrase = re.sub(r\"\\'s\", \" is\", phrase)\n",
    "    phrase = re.sub(r\"\\'d\", \" would\", phrase)\n",
    "    phrase = re.sub(r\"\\'ll\", \" will\", phrase)\n",
    "    phrase = re.sub(r\"\\'t\", \" not\", phrase)\n",
    "    phrase = re.sub(r\"\\'ve\", \" have\", phrase)\n",
    "    phrase = re.sub(r\"\\'m\", \" am\", phrase)\n",
    "    phrase = re.sub(r\"n\\’t\", \" not\", phrase)\n",
    "    phrase = re.sub(r\"\\’re\", \" are\", phrase)\n",
    "    phrase = re.sub(r\"\\’s\", \" is\", phrase)\n",
    "    phrase = re.sub(r\"\\’d\", \" would\", phrase)\n",
    "    phrase = re.sub(r\"\\’ll\", \" will\", phrase)\n",
    "    phrase = re.sub(r\"\\’t\", \" not\", phrase)\n",
    "    phrase = re.sub(r\"\\’ve\", \" have\", phrase)\n",
    "    phrase = re.sub(r\"\\’m\", \" am\", phrase)\n",
    "\n",
    "    return phrase\n",
    "\n",
    "def preprocess(text):\n",
    "    text = text.lower()\n",
    "    text = decontractions(text)\n",
    "    # text = re.sub('[^A-Za-z0-9 ]+', '', text)\n",
    "    words = remove_stopwords(text)\n",
    "    text = \" \".join(words)\n",
    "\n",
    "    return text\n",
    "\n"
   ]
  },
  {
   "cell_type": "code",
   "execution_count": 57,
   "id": "de458800",
   "metadata": {},
   "outputs": [
    {
     "data": {
      "text/html": [
       "<div>\n",
       "<style scoped>\n",
       "    .dataframe tbody tr th:only-of-type {\n",
       "        vertical-align: middle;\n",
       "    }\n",
       "\n",
       "    .dataframe tbody tr th {\n",
       "        vertical-align: top;\n",
       "    }\n",
       "\n",
       "    .dataframe thead th {\n",
       "        text-align: right;\n",
       "    }\n",
       "</style>\n",
       "<table border=\"1\" class=\"dataframe\">\n",
       "  <thead>\n",
       "    <tr style=\"text-align: right;\">\n",
       "      <th></th>\n",
       "      <th>NPSCommentCleaned</th>\n",
       "    </tr>\n",
       "  </thead>\n",
       "  <tbody>\n",
       "    <tr>\n",
       "      <th>0</th>\n",
       "      <td>wonderful value</td>\n",
       "    </tr>\n",
       "    <tr>\n",
       "      <th>1</th>\n",
       "      <td>staff professional knowledgeable</td>\n",
       "    </tr>\n",
       "    <tr>\n",
       "      <th>2</th>\n",
       "      <td>joey helpful</td>\n",
       "    </tr>\n",
       "    <tr>\n",
       "      <th>3</th>\n",
       "      <td>excellent staff item returned quick</td>\n",
       "    </tr>\n",
       "    <tr>\n",
       "      <th>4</th>\n",
       "      <td>everyone friendly helpful</td>\n",
       "    </tr>\n",
       "  </tbody>\n",
       "</table>\n",
       "</div>"
      ],
      "text/plain": [
       "                     NPSCommentCleaned\n",
       "0                      wonderful value\n",
       "1     staff professional knowledgeable\n",
       "2                         joey helpful\n",
       "3  excellent staff item returned quick\n",
       "4            everyone friendly helpful"
      ]
     },
     "execution_count": 57,
     "metadata": {},
     "output_type": "execute_result"
    }
   ],
   "source": [
    "from bby.util import nps_remove_stopwords\n",
    "data['NPSCommentCleaned'] = data['NPSCommentCleaned'].apply(nps_remove_stopwords)\n",
    "data.head()"
   ]
  },
  {
   "cell_type": "code",
   "execution_count": 58,
   "id": "ed8ecb2f",
   "metadata": {},
   "outputs": [],
   "source": [
    "q_lengths = data['NPSCommentCleaned'].str.split().apply(len)\n"
   ]
  },
  {
   "cell_type": "code",
   "execution_count": 59,
   "id": "c41cb975",
   "metadata": {},
   "outputs": [
    {
     "name": "stderr",
     "output_type": "stream",
     "text": [
      "100%|██████████| 256433/256433 [00:00<00:00, 1680932.27it/s]\n"
     ]
    }
   ],
   "source": [
    "from tqdm import tqdm \n",
    "all_ques = \" \".join(data['NPSCommentCleaned'].values)\n",
    "word_cnt_q = {}\n",
    "for i in tqdm(all_ques.split()): word_cnt_q[i] = word_cnt_q.get(i, 0) + 1"
   ]
  },
  {
   "cell_type": "code",
   "execution_count": 60,
   "id": "78639702",
   "metadata": {},
   "outputs": [],
   "source": [
    "\n",
    "word_ordered_q = sorted(word_cnt_q, key=lambda x: word_cnt_q[x], reverse=True)\n",
    "top_20_q = word_ordered_q[:20]\n",
    "cnts_20_q = [word_cnt_q[i] for i in top_20_q]\n"
   ]
  },
  {
   "cell_type": "code",
   "execution_count": 61,
   "id": "7fb14b47",
   "metadata": {},
   "outputs": [],
   "source": [
    "import seaborn as sns\n",
    "\n",
    "sns.set(rc={'figure.figsize':(11.7,8.27)})\n",
    "def plot(top_words, counts):    \n",
    "    fig, ax = plt.subplots()\n",
    "\n",
    "    # Save the chart so we can loop through the bars below.\n",
    "    bars = ax.bar(\n",
    "        x=np.arange(len(top_words)),\n",
    "        height=counts,\n",
    "        tick_label=top_words\n",
    "    )\n",
    "\n",
    "    # Axis formatting.\n",
    "    ax.spines['top'].set_visible(False)\n",
    "    ax.spines['right'].set_visible(False)\n",
    "    ax.spines['left'].set_visible(False)\n",
    "    ax.spines['bottom'].set_color('#DDDDDD')\n",
    "    ax.tick_params(bottom=False, left=False)\n",
    "    ax.set_axisbelow(True)\n",
    "    ax.yaxis.grid(True, color='#EEEEEE')\n",
    "    ax.xaxis.grid(False)\n",
    "\n",
    "    # Add text annotations to the top of the bars.\n",
    "    bar_color = bars[0].get_facecolor()\n",
    "    for bar in bars:\n",
    "      ax.text(\n",
    "          bar.get_x() + bar.get_width() / 2,\n",
    "          bar.get_height() + 0.3,\n",
    "          round(bar.get_height(), 1),\n",
    "          horizontalalignment='center',\n",
    "          color=bar_color,\n",
    "          weight='bold'\n",
    "      )\n",
    "\n",
    "    # Add labels and a title. Note the use of `labelpad` and `pad` to add some\n",
    "    # extra space between the text and the tick labels.\n",
    "    ax.set_xlabel('Word', labelpad=15, color='#333333')\n",
    "    ax.set_ylabel('Count', labelpad=15, color='#333333')\n",
    "    ax.set_title(\"Most usual words in reply/answers\", pad=15, color='#333333',\n",
    "                 weight='bold')\n",
    "\n",
    "    fig.tight_layout()"
   ]
  },
  {
   "cell_type": "markdown",
   "id": "5f51161f",
   "metadata": {},
   "source": [
    "## Let's have a look on the distribution of words in the dataset"
   ]
  },
  {
   "cell_type": "code",
   "execution_count": 62,
   "id": "996c84f7",
   "metadata": {},
   "outputs": [
    {
     "data": {
      "image/png": "[encoded data removed]",
      "text/plain": [
       "<Figure size 842.4x595.44 with 1 Axes>"
      ]
     },
     "metadata": {},
     "output_type": "display_data"
    }
   ],
   "source": [
    "\n",
    "plot(top_20_q, cnts_20_q) "
   ]
  },
  {
   "cell_type": "code",
   "execution_count": 63,
   "id": "d9799e6c",
   "metadata": {},
   "outputs": [],
   "source": [
    "\n",
    "word_ordered_q = sorted(word_cnt_q, key=lambda x: word_cnt_q[x], reverse=True)\n",
    "top_20_q = []\n",
    "for i in word_ordered_q:\n",
    "    if len(top_20_q) == 20: break\n",
    "    if len(i) >= 5:\n",
    "        top_20_q.append(i)\n",
    "cnts_20_q = [word_cnt_q[i] for i in top_20_q]\n"
   ]
  },
  {
   "cell_type": "markdown",
   "id": "373b29e8",
   "metadata": {},
   "source": [
    "#### Most used words having length > 5, questions"
   ]
  },
  {
   "cell_type": "code",
   "execution_count": 64,
   "id": "3cf42cd4",
   "metadata": {},
   "outputs": [
    {
     "data": {
      "image/png": "[encoded data removed]",
      "text/plain": [
       "<Figure size 842.4x595.44 with 1 Axes>"
      ]
     },
     "metadata": {},
     "output_type": "display_data"
    }
   ],
   "source": [
    "\n",
    "plot(top_20_q, cnts_20_q) "
   ]
  },
  {
   "cell_type": "markdown",
   "id": "817af5d8",
   "metadata": {},
   "source": [
    "#### Sentence lengths are more likely to occure in range (2-7)"
   ]
  },
  {
   "cell_type": "code",
   "execution_count": 65,
   "id": "af6fe966",
   "metadata": {},
   "outputs": [
    {
     "data": {
      "image/png": "[encoded data removed]",
      "text/plain": [
       "<Figure size 1440x360 with 1 Axes>"
      ]
     },
     "metadata": {},
     "output_type": "display_data"
    }
   ],
   "source": [
    "answer_count = data['NPSCommentCleaned'].str.split().apply(len).value_counts()\n",
    "word_dict = dict(answer_count)\n",
    "word_dict = dict(sorted(word_dict.items(), key=lambda kv: kv[1]))\n",
    "ind = np.arange(len(word_dict))\n",
    "plt.figure(figsize=(20,5))\n",
    "p1 = plt.bar(ind, list(word_dict.values()))\n",
    "\n",
    "plt.ylabel('words')\n",
    "plt.xlabel('index')\n",
    "plt.title('words in questions')\n",
    "plt.xticks(ind, list(word_dict.keys()))\n",
    "plt.show()"
   ]
  },
  {
   "cell_type": "markdown",
   "id": "97e46f0d",
   "metadata": {},
   "source": [
    "#### Sentence lengths are more likely to occure in range (2-7)"
   ]
  },
  {
   "cell_type": "code",
   "execution_count": null,
   "id": "f7220bab",
   "metadata": {},
   "outputs": [],
   "source": []
  },
  {
   "cell_type": "markdown",
   "id": "2cc015c0",
   "metadata": {},
   "source": [
    "##### Minimum no. of words required to explain maximum no. of document in the corpus for answer set"
   ]
  },
  {
   "cell_type": "code",
   "execution_count": 66,
   "id": "1f36ad1a",
   "metadata": {},
   "outputs": [
    {
     "name": "stdout",
     "output_type": "stream",
     "text": [
      "0 0.0\n",
      "10 2.0\n",
      "20 2.0\n",
      "30 3.0\n",
      "40 4.0\n",
      "50 6.0\n",
      "60 7.0\n",
      "70 10.0\n",
      "80 15.0\n",
      "90 24.0\n",
      "100 434.0\n",
      "================================================================================\n",
      "90 24.0\n",
      "91 26.0\n",
      "92 28.0\n",
      "93 31.0\n",
      "94 34.0\n",
      "95 38.0\n",
      "96 42.0\n",
      "97 50.0\n",
      "98 61.0\n",
      "99 82.0\n",
      "100 434.0\n",
      "================================================================================\n",
      "99.1 84.0\n",
      "99.2 88.0\n",
      "99.3 91.0\n",
      "99.4 99.0\n",
      "99.5 107.13000000000102\n",
      "99.6 113.0\n",
      "99.7 124.27799999999843\n",
      "99.8 148.85199999999895\n",
      "99.9 178.4260000000031\n",
      "100 434.0\n"
     ]
    }
   ],
   "source": [
    "for i in range(0,101,10):\n",
    "    print(i,np.percentile(q_lengths, i))\n",
    "print(\"=\"*80)\n",
    "for i in range(90,101):\n",
    "    print(i,np.percentile(q_lengths, i))\n",
    "print(\"=\"*80)\n",
    "for i in [99.1,99.2,99.3,99.4,99.5,99.6,99.7,99.8,99.9,100]:\n",
    "    print(i,np.percentile(q_lengths, i))"
   ]
  },
  {
   "cell_type": "markdown",
   "id": "13d1acad",
   "metadata": {},
   "source": [
    "##### Minimum no. of words required to explain maximum no. of document in the corpus for question set"
   ]
  },
  {
   "cell_type": "markdown",
   "id": "dedd8961",
   "metadata": {},
   "source": [
    "## I'm going to try Simple encoder decoder for training at first, For that I need to Do some preprocessing!"
   ]
  },
  {
   "cell_type": "markdown",
   "id": "d2f78a41",
   "metadata": {},
   "source": [
    "#### Adding \\<start>, \\<end> tokens, for to apply one time-shifted technique!"
   ]
  },
  {
   "cell_type": "code",
   "execution_count": null,
   "id": "7729edd5",
   "metadata": {},
   "outputs": [],
   "source": [
    "data['answer_in'] = '<start> ' + data['answer'].astype(str)\n",
    "data['answer_out'] = data['answer'].astype(str) + ' <end>'\n",
    "data.head()"
   ]
  },
  {
   "cell_type": "code",
   "execution_count": null,
   "id": "0aec537b",
   "metadata": {},
   "outputs": [],
   "source": [
    "data_final = data.drop(['answer'], axis=1)\n",
    "data_final.head()"
   ]
  },
  {
   "cell_type": "markdown",
   "id": "cd0d1220",
   "metadata": {},
   "source": [
    "### Train test split of the dataset"
   ]
  },
  {
   "cell_type": "code",
   "execution_count": null,
   "id": "fa21fec4",
   "metadata": {},
   "outputs": [],
   "source": [
    "from sklearn.model_selection import train_test_split\n",
    "train, validation = train_test_split(data_final, test_size=0.2)"
   ]
  },
  {
   "cell_type": "markdown",
   "id": "6ff0c796",
   "metadata": {},
   "source": [
    "### Adding  \\<end> in Answer_in so that it can be tokenized by tokenizer!"
   ]
  },
  {
   "cell_type": "code",
   "execution_count": null,
   "id": "c3920da9",
   "metadata": {},
   "outputs": [],
   "source": [
    "train.iloc[0]['answer_in']= str(train.iloc[0]['answer_in'])+' <end>'\n",
    "train.iloc[0]['answer_out']= str(train.iloc[0]['answer_out'])+' <end>'"
   ]
  },
  {
   "cell_type": "markdown",
   "id": "7b0be193",
   "metadata": {},
   "source": [
    "### Saving data set for to use in training!, in the next notebook."
   ]
  },
  {
   "cell_type": "code",
   "execution_count": null,
   "id": "29c375b6",
   "metadata": {},
   "outputs": [],
   "source": [
    " import joblib\n",
    "# joblib.dump(data, \"train\")\n",
    "# joblib.dump(validation, \"validation\")\n",
    "# train = joblib.load(\"train\")\n",
    "# validation = joblib.load(\"validation\")"
   ]
  },
  {
   "cell_type": "code",
   "execution_count": null,
   "id": "0c924a49",
   "metadata": {},
   "outputs": [],
   "source": []
  },
  {
   "cell_type": "code",
   "execution_count": null,
   "id": "f3867ae6",
   "metadata": {},
   "outputs": [],
   "source": []
  },
  {
   "cell_type": "code",
   "execution_count": null,
   "id": "e596532a",
   "metadata": {},
   "outputs": [],
   "source": [
    "\n",
    "# i, cnt = 0, 0\n",
    "# a = [5, 19, 1, 8]\n",
    "# a.sort(reverse=True)\n",
    "# s = sum(a)\n",
    "# h = s/2\n",
    "# while(i != len(a)-1):\n",
    "#     while(a[i] >= a[i+1] and s > h):\n",
    "#         s = s - a[i]\n",
    "#         a[i] = a[i]/2\n",
    "#         s = s + a[i]\n",
    "#         cnt += 1          \n",
    "#     i += 1\n",
    "#     if s <= h: break\n",
    "        \n",
    "#     if i == len(a)-1:\n",
    "#         cnt += 1\n",
    "#         break "
   ]
  },
  {
   "cell_type": "code",
   "execution_count": null,
   "id": "151204ca",
   "metadata": {},
   "outputs": [],
   "source": [
    "cnt"
   ]
  }
 ],
 "metadata": {
  "interpreter": {
   "hash": "8ee8fbf491c2dc09f1850242389295773ac6375f10ce9efdb2142efbd90a9151"
  },
  "kernelspec": {
   "display_name": "Python 3.8.0 ('aigpu')",
   "language": "python",
   "name": "python3"
  },
  "language_info": {
   "codemirror_mode": {
    "name": "ipython",
    "version": 3
   },
   "file_extension": ".py",
   "mimetype": "text/x-python",
   "name": "python",
   "nbconvert_exporter": "python",
   "pygments_lexer": "ipython3",
   "version": "3.8.0"
  }
 },
 "nbformat": 4,
 "nbformat_minor": 5
}
