{
 "cells": [
  {
   "cell_type": "code",
   "execution_count": null,
   "metadata": {},
   "outputs": [],
   "source": [
    "# NPS comment analysis using NLTK\n",
    "# Author: Eric G. Suchanek, PhD\n",
    "# (c) 2022 BestBuy, All Rights Reserved\n",
    "# Confidential, do not share\n"
   ]
  },
  {
   "cell_type": "code",
   "execution_count": 3,
   "metadata": {},
   "outputs": [],
   "source": [
    "# library imports\n",
    "import pandas as pd\n",
    "import matplotlib.pyplot as plt \n",
    "import re\n",
    "\n",
    "#TextBlob Features\n",
    "\n",
    "\n",
    "# nltk\n",
    "import nltk\n",
    "\n",
    "from nltk.corpus import wordnet\n",
    "from nltk.stem import WordNetLemmatizer, PorterStemmer\n",
    "from nltk.tokenize.treebank import TreebankWordDetokenizer\n",
    "from collections import Counter\n",
    "from nltk.corpus import stopwords\n",
    "from nltk.tokenize import word_tokenize\n",
    "import os\n",
    "\n",
    "# Bestbuy specifics\n",
    "\n",
    "\n"
   ]
  },
  {
   "cell_type": "code",
   "execution_count": 7,
   "metadata": {},
   "outputs": [
    {
     "ename": "NameError",
     "evalue": "name 'NPSCommentsCleaned' is not defined",
     "output_type": "error",
     "traceback": [
      "\u001b[0;31m---------------------------------------------------------------------------\u001b[0m",
      "\u001b[0;31mNameError\u001b[0m                                 Traceback (most recent call last)",
      "Input \u001b[0;32mIn [7]\u001b[0m, in \u001b[0;36m<cell line: 16>\u001b[0;34m()\u001b[0m\n\u001b[1;32m     14\u001b[0m det_mask \u001b[38;5;241m=\u001b[39m nps_df[\u001b[38;5;124m'\u001b[39m\u001b[38;5;124mNPS_Code\u001b[39m\u001b[38;5;124m'\u001b[39m] \u001b[38;5;241m==\u001b[39m \u001b[38;5;241m0\u001b[39m\n\u001b[1;32m     15\u001b[0m det_df \u001b[38;5;241m=\u001b[39m nps_df[det_mask]\n\u001b[0;32m---> 16\u001b[0m det \u001b[38;5;241m=\u001b[39m det_df[\u001b[43mNPSCommentsCleaned\u001b[49m]\u001b[38;5;241m.\u001b[39mapply(find_matches)\n",
      "\u001b[0;31mNameError\u001b[0m: name 'NPSCommentsCleaned' is not defined"
     ]
    }
   ],
   "source": [
    "#\n",
    "# these tetragrams were derived from the nps National Extract from 6/1/22\n",
    "# and were found with my program NPSanalysisWordcloud2.ipynb\n",
    "#\n",
    "\n",
    "detractor_bad_tetras = ['hard drive hard drive', 'hard drive even though', 'hard drive fix problem',\n",
    "                        'hard drive told would', 'hard drive came back', 'hard drive first time', 'hard drive days later',\n",
    "                        'transfer data hard drive', 'hard drive data transfer', 'new laptop hard drive', ]\n",
    "\n",
    "input_filename = '../data/clean/NPS_Natl_cleaned.csv'\n",
    "nps_df = pd.read_csv(input_filename)\n",
    "nps_comments = nps_df['NPSCommentCleaned']\n",
    "overall_comments = nps_df['OverallCommentCleaned']\n",
    "det_mask = nps_df['NPS_Code'] == 0\n",
    "det_df = nps_df[det_mask]\n",
    "det = det_df[NPSCommentsCleaned].apply(find_matches)\n"
   ]
  },
  {
   "cell_type": "markdown",
   "metadata": {},
   "source": []
  },
  {
   "cell_type": "code",
   "execution_count": 5,
   "metadata": {},
   "outputs": [],
   "source": [
    "# given an input \n",
    "def find_matches(input_list, ngram_list):\n",
    "    matchlist = []\n",
    "    for sentence in input_list:\n",
    "        for pattern in ngram_list:\n",
    "            foundit = False\n",
    "            match = re.search(pattern, sentence)\n",
    "            if (match is not None):\n",
    "                foundit = True\n",
    "            break\n",
    "        if (foundit):\n",
    "            matchlist.append(True)\n",
    "        else:\n",
    "            matchlist.append(False)\n",
    "    return matchlist\n",
    "\n"
   ]
  },
  {
   "cell_type": "code",
   "execution_count": null,
   "metadata": {},
   "outputs": [],
   "source": [
    "matches = nps_comments."
   ]
  }
 ],
 "metadata": {
  "interpreter": {
   "hash": "f2ae5d3a08a6e204c8c8cee8069ee9bbd2ab88ccb9eee13930db12104613cdbd"
  },
  "kernelspec": {
   "display_name": "Python 3 (ipykernel)",
   "language": "python",
   "name": "python3"
  },
  "language_info": {
   "codemirror_mode": {
    "name": "ipython",
    "version": 3
   },
   "file_extension": ".py",
   "mimetype": "text/x-python",
   "name": "python",
   "nbconvert_exporter": "python",
   "pygments_lexer": "ipython3",
   "version": "3.9.10+"
  }
 },
 "nbformat": 4,
 "nbformat_minor": 2
}
