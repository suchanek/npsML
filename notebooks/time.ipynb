{
 "cells": [
  {
   "cell_type": "code",
   "execution_count": 3,
   "metadata": {},
   "outputs": [
    {
     "name": "stdout",
     "output_type": "stream",
     "text": [
      "2022-05-23 10:31:17.033918\n",
      "Elapsed time: 0:00:00.005300\n"
     ]
    }
   ],
   "source": [
    "# end of file - peace.\n",
    "import numpy as np\n",
    "import datetime\n",
    "\n",
    "ct = datetime.datetime.now()\n",
    "\n",
    "print(ct)\n",
    "for i in range(10000):\n",
    "    j = np.sqrt(i)\n",
    "end = datetime.datetime.now()\n",
    "\n",
    "diff = end - ct\n",
    "#elapsed = timedelta(diff)\n",
    "\n",
    "print(f'Elapsed time: {diff}')\n",
    "\n",
    "\n"
   ]
  },
  {
   "cell_type": "code",
   "execution_count": 5,
   "metadata": {},
   "outputs": [
    {
     "name": "stdout",
     "output_type": "stream",
     "text": [
      "2022-05-23 10:28:26.048396\n"
     ]
    }
   ],
   "source": [
    "import datetime\n",
    "\n",
    "datetime_object = datetime.datetime.now()\n",
    "print(datetime_object)"
   ]
  },
  {
   "cell_type": "code",
   "execution_count": null,
   "metadata": {},
   "outputs": [],
   "source": []
  }
 ],
 "metadata": {
  "interpreter": {
   "hash": "f2ae5d3a08a6e204c8c8cee8069ee9bbd2ab88ccb9eee13930db12104613cdbd"
  },
  "kernelspec": {
   "display_name": "Python (ai_m1new)",
   "language": "python",
   "name": "ai_m1new"
  },
  "language_info": {
   "codemirror_mode": {
    "name": "ipython",
    "version": 3
   },
   "file_extension": ".py",
   "mimetype": "text/x-python",
   "name": "python",
   "nbconvert_exporter": "python",
   "pygments_lexer": "ipython3",
   "version": "3.9.12"
  },
  "orig_nbformat": 4
 },
 "nbformat": 4,
 "nbformat_minor": 2
}
