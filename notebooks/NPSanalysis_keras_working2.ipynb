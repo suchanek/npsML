{
 "cells": [
  {
   "cell_type": "markdown",
   "metadata": {
    "papermill": {
     "duration": 0.032369,
     "end_time": "2020-10-06T21:19:31.851445",
     "exception": false,
     "start_time": "2020-10-06T21:19:31.819076",
     "status": "completed"
    },
    "tags": []
   },
   "source": [
    "# Overview\n",
    "\n",
    "This project represents an attempt to utilize machine learning and natural language processing techniques to predict NPS sentiments (Promotor, Passive, Detractor) based on surveys submitted through the NPS system. \n",
    "\n",
    "Author: Eric G. Suchanek, PhD for BestBuy.\n",
    "\n",
    "\n",
    "Methods tried: \n",
    "* Sentiment analysis using textblob\n",
    "* RNN\n",
    "* LSTM\n",
    "* BERT\n",
    "* BoW\n",
    "\n",
    "The following directory structure must be maintained:  \n",
    "* main directory/\n",
    "* notebook/  <-- where this notebook resides\n",
    "    --data/\n",
    "    -- raw/\n",
    "    -- clean/\n",
    "    -- pass/\n",
    "    -- prom/\n",
    "    -- det/\n",
    "\n",
    "Based on: https://erleem.medium.com/nlp-complete-sentiment-analysis-on-amazon-reviews-374e4fea9976\n",
    "\n",
    "(c) 2022 BestBuy, all rights reserved. Confidential. Do not share."
   ]
  },
  {
   "cell_type": "markdown",
   "metadata": {},
   "source": []
  },
  {
   "cell_type": "markdown",
   "metadata": {
    "papermill": {
     "duration": 0.030876,
     "end_time": "2020-10-06T21:19:31.915205",
     "exception": false,
     "start_time": "2020-10-06T21:19:31.884329",
     "status": "completed"
    },
    "tags": []
   },
   "source": [
    "# Imports"
   ]
  },
  {
   "cell_type": "code",
   "execution_count": 3,
   "metadata": {},
   "outputs": [],
   "source": [
    "# Load the TensorBoard notebook extension\n",
    "%load_ext tensorboard"
   ]
  },
  {
   "cell_type": "code",
   "execution_count": 1,
   "metadata": {
    "execution": {
     "iopub.execute_input": "2020-10-06T21:19:31.986613Z",
     "iopub.status.busy": "2020-10-06T21:19:31.985943Z",
     "iopub.status.idle": "2020-10-06T21:19:41.514922Z",
     "shell.execute_reply": "2020-10-06T21:19:41.515686Z"
    },
    "papermill": {
     "duration": 9.569887,
     "end_time": "2020-10-06T21:19:41.515898",
     "exception": false,
     "start_time": "2020-10-06T21:19:31.946011",
     "status": "completed"
    },
    "tags": []
   },
   "outputs": [],
   "source": [
    "import re\n",
    "import matplotlib.pyplot as plt\n",
    "import string\n",
    "import nltk\n",
    "from nltk.corpus import wordnet\n",
    "from nltk.stem import WordNetLemmatizer\n",
    "from nltk.tokenize.treebank import TreebankWordDetokenizer\n",
    "from collections import Counter\n",
    "from nltk.tokenize import word_tokenize\n",
    "\n",
    "from sklearn.model_selection import train_test_split\n",
    "import pickle\n",
    "\n",
    "import warnings\n",
    "warnings.filterwarnings('ignore')\n",
    "\n",
    "import seaborn as sns\n",
    "from sklearn.metrics import confusion_matrix\n",
    "import matplotlib.pyplot as plt \n",
    "import tensorflow as tf\n",
    "import keras\n",
    "import numpy as np\n",
    "import pandas as pd\n",
    "\n",
    "from keras.preprocessing.text import text_to_word_sequence\n",
    "\n",
    "import datetime\n",
    "from bby import util\n",
    "from bby.util import lemma_remove_stopwords\n",
    "from bby.util import sent_to_words, get_wordnet_pos\n"
   ]
  },
  {
   "cell_type": "markdown",
   "metadata": {
    "papermill": {
     "duration": 0.032245,
     "end_time": "2020-10-06T21:19:41.583484",
     "exception": false,
     "start_time": "2020-10-06T21:19:41.551239",
     "status": "completed"
    },
    "tags": []
   },
   "source": [
    "# Data importing and exploration"
   ]
  },
  {
   "cell_type": "code",
   "execution_count": 2,
   "metadata": {
    "_cell_guid": "79c7e3d0-c299-4dcb-8224-4455121ee9b0",
    "_uuid": "d629ff2d2480ee46fbb7e2d37f6b5fab8052498a",
    "execution": {
     "iopub.execute_input": "2020-10-06T21:19:41.667156Z",
     "iopub.status.busy": "2020-10-06T21:19:41.666425Z",
     "iopub.status.idle": "2020-10-06T21:19:41.753917Z",
     "shell.execute_reply": "2020-10-06T21:19:41.752384Z"
    },
    "papermill": {
     "duration": 0.132806,
     "end_time": "2020-10-06T21:19:41.754037",
     "exception": false,
     "start_time": "2020-10-06T21:19:41.621231",
     "status": "completed"
    },
    "tags": []
   },
   "outputs": [
    {
     "data": {
      "text/html": [
       "<div>\n",
       "<style scoped>\n",
       "    .dataframe tbody tr th:only-of-type {\n",
       "        vertical-align: middle;\n",
       "    }\n",
       "\n",
       "    .dataframe tbody tr th {\n",
       "        vertical-align: top;\n",
       "    }\n",
       "\n",
       "    .dataframe thead th {\n",
       "        text-align: right;\n",
       "    }\n",
       "</style>\n",
       "<table border=\"1\" class=\"dataframe\">\n",
       "  <thead>\n",
       "    <tr style=\"text-align: right;\">\n",
       "      <th></th>\n",
       "      <th>Unnamed: 0</th>\n",
       "      <th>Location</th>\n",
       "      <th>Workforce</th>\n",
       "      <th>NPS® Breakdown</th>\n",
       "      <th>NPS_Code</th>\n",
       "      <th>NPSCommentLemmatised</th>\n",
       "      <th>OverallCommentLemmatised</th>\n",
       "    </tr>\n",
       "  </thead>\n",
       "  <tbody>\n",
       "    <tr>\n",
       "      <th>0</th>\n",
       "      <td>0</td>\n",
       "      <td>1031</td>\n",
       "      <td>Precinct</td>\n",
       "      <td>Promoter</td>\n",
       "      <td>2</td>\n",
       "      <td>Easy fix</td>\n",
       "      <td>purchase replacement battery laptop third part...</td>\n",
       "    </tr>\n",
       "    <tr>\n",
       "      <th>1</th>\n",
       "      <td>1</td>\n",
       "      <td>268</td>\n",
       "      <td>Precinct</td>\n",
       "      <td>Promoter</td>\n",
       "      <td>2</td>\n",
       "      <td>excellent service render</td>\n",
       "      <td>NONE</td>\n",
       "    </tr>\n",
       "    <tr>\n",
       "      <th>2</th>\n",
       "      <td>2</td>\n",
       "      <td>558</td>\n",
       "      <td>Precinct</td>\n",
       "      <td>Promoter</td>\n",
       "      <td>2</td>\n",
       "      <td>technician excellent courteous knowledgeable r...</td>\n",
       "      <td>Excellent</td>\n",
       "    </tr>\n",
       "    <tr>\n",
       "      <th>3</th>\n",
       "      <td>3</td>\n",
       "      <td>445</td>\n",
       "      <td>Precinct</td>\n",
       "      <td>Promoter</td>\n",
       "      <td>2</td>\n",
       "      <td>like bring computer free tuneup every 3 month</td>\n",
       "      <td>NONE</td>\n",
       "    </tr>\n",
       "    <tr>\n",
       "      <th>4</th>\n",
       "      <td>4</td>\n",
       "      <td>1252</td>\n",
       "      <td>Precinct</td>\n",
       "      <td>Promoter</td>\n",
       "      <td>2</td>\n",
       "      <td>Taylor team take professional contact promptly...</td>\n",
       "      <td>Thanks Taylor team geek squad ery professional</td>\n",
       "    </tr>\n",
       "  </tbody>\n",
       "</table>\n",
       "</div>"
      ],
      "text/plain": [
       "   Unnamed: 0  Location Workforce NPS® Breakdown  NPS_Code  \\\n",
       "0           0      1031  Precinct       Promoter         2   \n",
       "1           1       268  Precinct       Promoter         2   \n",
       "2           2       558  Precinct       Promoter         2   \n",
       "3           3       445  Precinct       Promoter         2   \n",
       "4           4      1252  Precinct       Promoter         2   \n",
       "\n",
       "                                NPSCommentLemmatised  \\\n",
       "0                                           Easy fix   \n",
       "1                           excellent service render   \n",
       "2  technician excellent courteous knowledgeable r...   \n",
       "3      like bring computer free tuneup every 3 month   \n",
       "4  Taylor team take professional contact promptly...   \n",
       "\n",
       "                            OverallCommentLemmatised  \n",
       "0  purchase replacement battery laptop third part...  \n",
       "1                                               NONE  \n",
       "2                                          Excellent  \n",
       "3                                               NONE  \n",
       "4     Thanks Taylor team geek squad ery professional  "
      ]
     },
     "execution_count": 2,
     "metadata": {},
     "output_type": "execute_result"
    }
   ],
   "source": [
    "NPS_df = pd.read_csv('../data/clean/NPS_NATL_subset.csv')\n",
    "NPS_df.head(5)"
   ]
  },
  {
   "cell_type": "code",
   "execution_count": 3,
   "metadata": {
    "execution": {
     "iopub.execute_input": "2020-10-06T21:19:41.980569Z",
     "iopub.status.busy": "2020-10-06T21:19:41.979730Z",
     "iopub.status.idle": "2020-10-06T21:19:41.983566Z",
     "shell.execute_reply": "2020-10-06T21:19:41.983073Z"
    },
    "papermill": {
     "duration": 0.041264,
     "end_time": "2020-10-06T21:19:41.983666",
     "exception": false,
     "start_time": "2020-10-06T21:19:41.942402",
     "status": "completed"
    },
    "tags": []
   },
   "outputs": [
    {
     "data": {
      "text/plain": [
       "24769"
      ]
     },
     "execution_count": 3,
     "metadata": {},
     "output_type": "execute_result"
    }
   ],
   "source": [
    "#Let's get the dataset lenght\n",
    "len(NPS_df)"
   ]
  },
  {
   "cell_type": "code",
   "execution_count": 4,
   "metadata": {
    "execution": {
     "iopub.execute_input": "2020-10-06T21:19:42.143106Z",
     "iopub.status.busy": "2020-10-06T21:19:42.142318Z",
     "iopub.status.idle": "2020-10-06T21:19:42.185676Z",
     "shell.execute_reply": "2020-10-06T21:19:42.186310Z"
    },
    "papermill": {
     "duration": 0.088183,
     "end_time": "2020-10-06T21:19:42.186453",
     "exception": false,
     "start_time": "2020-10-06T21:19:42.098270",
     "status": "completed"
    },
    "tags": []
   },
   "outputs": [
    {
     "data": {
      "text/html": [
       "<div>\n",
       "<style scoped>\n",
       "    .dataframe tbody tr th:only-of-type {\n",
       "        vertical-align: middle;\n",
       "    }\n",
       "\n",
       "    .dataframe tbody tr th {\n",
       "        vertical-align: top;\n",
       "    }\n",
       "\n",
       "    .dataframe thead th {\n",
       "        text-align: right;\n",
       "    }\n",
       "</style>\n",
       "<table border=\"1\" class=\"dataframe\">\n",
       "  <thead>\n",
       "    <tr style=\"text-align: right;\">\n",
       "      <th></th>\n",
       "      <th>Unnamed: 0</th>\n",
       "      <th>Location</th>\n",
       "      <th>Workforce</th>\n",
       "      <th>NPS_Code</th>\n",
       "      <th>NPSCommentLemmatised</th>\n",
       "      <th>OverallCommentLemmatised</th>\n",
       "    </tr>\n",
       "    <tr>\n",
       "      <th>NPS® Breakdown</th>\n",
       "      <th></th>\n",
       "      <th></th>\n",
       "      <th></th>\n",
       "      <th></th>\n",
       "      <th></th>\n",
       "      <th></th>\n",
       "    </tr>\n",
       "  </thead>\n",
       "  <tbody>\n",
       "    <tr>\n",
       "      <th>Detractor</th>\n",
       "      <td>8349</td>\n",
       "      <td>929</td>\n",
       "      <td>2</td>\n",
       "      <td>1</td>\n",
       "      <td>7449</td>\n",
       "      <td>5651</td>\n",
       "    </tr>\n",
       "    <tr>\n",
       "      <th>Passive</th>\n",
       "      <td>8164</td>\n",
       "      <td>927</td>\n",
       "      <td>2</td>\n",
       "      <td>1</td>\n",
       "      <td>5492</td>\n",
       "      <td>3639</td>\n",
       "    </tr>\n",
       "    <tr>\n",
       "      <th>Promoter</th>\n",
       "      <td>8256</td>\n",
       "      <td>929</td>\n",
       "      <td>2</td>\n",
       "      <td>1</td>\n",
       "      <td>5810</td>\n",
       "      <td>3597</td>\n",
       "    </tr>\n",
       "  </tbody>\n",
       "</table>\n",
       "</div>"
      ],
      "text/plain": [
       "                Unnamed: 0  Location  Workforce  NPS_Code  \\\n",
       "NPS® Breakdown                                              \n",
       "Detractor             8349       929          2         1   \n",
       "Passive               8164       927          2         1   \n",
       "Promoter              8256       929          2         1   \n",
       "\n",
       "                NPSCommentLemmatised  OverallCommentLemmatised  \n",
       "NPS® Breakdown                                                  \n",
       "Detractor                       7449                      5651  \n",
       "Passive                         5492                      3639  \n",
       "Promoter                        5810                      3597  "
      ]
     },
     "execution_count": 4,
     "metadata": {},
     "output_type": "execute_result"
    }
   ],
   "source": [
    "#How's distributed the dataset? Is it biased?\n",
    "NPS_df.groupby('NPS® Breakdown').nunique()"
   ]
  },
  {
   "cell_type": "code",
   "execution_count": 5,
   "metadata": {},
   "outputs": [
    {
     "data": {
      "text/plain": [
       "<BarContainer object of 3 artists>"
      ]
     },
     "execution_count": 5,
     "metadata": {},
     "output_type": "execute_result"
    },
    {
     "data": {
      "image/png": "[encoded data removed]",
      "text/plain": [
       "<Figure size 432x288 with 1 Axes>"
      ]
     },
     "metadata": {
      "needs_background": "light"
     },
     "output_type": "display_data"
    }
   ],
   "source": [
    "#Checking balance of target classes\n",
    "sentiments = list(NPS_df[\"NPS® Breakdown\"].unique())\n",
    "\n",
    "sentiment_nums = [len(NPS_df[NPS_df[\"NPS® Breakdown\"] == sentiment]) / len(NPS_df) for sentiment in sentiments]\n",
    "\n",
    "plt.bar(sentiments, sentiment_nums)"
   ]
  },
  {
   "cell_type": "markdown",
   "metadata": {
    "papermill": {
     "duration": 0.033994,
     "end_time": "2020-10-06T21:19:42.255666",
     "exception": false,
     "start_time": "2020-10-06T21:19:42.221672",
     "status": "completed"
    },
    "tags": []
   },
   "source": [
    "# Data cleaning\n"
   ]
  },
  {
   "cell_type": "code",
   "execution_count": 10,
   "metadata": {},
   "outputs": [],
   "source": [
    "# testing\n",
    "import bby\n",
    "from nltk.corpus import stopwords\n",
    "from nltk.stem import PorterStemmer\n",
    "\n",
    "\n",
    "def lemma_remove_stopwords2(_ls):\n",
    "    # Lemmatises, then removes stop words\n",
    "    lemmatiser = WordNetLemmatizer()\n",
    "    porter = PorterStemmer()\n",
    "    ls = str(_ls)\n",
    "    \n",
    "    stop_english = Counter(stopwords.words()) # Here we use a Counter dictionary on the cached\n",
    "                                            # list of stop words for a huge speed-up\n",
    "    result = ls.translate(str.maketrans('', '', string.punctuation)) #removes [!”#$%&’()*+,-./:;<=>?@[\\]^_`{|}~]:\n",
    "\n",
    "    word_tokens = word_tokenize(result)\n",
    "    # print(word_tokens)\n",
    "    filtered_sentence = [porter.stem(w) for w in word_tokens if not w.lower() in stop_english]\n",
    "\n",
    "    ls = [lemmatiser.lemmatize(word, get_wordnet_pos(word)) for word in filtered_sentence]\n",
    "\n",
    "    #Joins the words back into a single string\n",
    "    ls = \" \".join(ls)\n",
    "    return ls\n"
   ]
  },
  {
   "cell_type": "code",
   "execution_count": 11,
   "metadata": {},
   "outputs": [],
   "source": [
    "# grab the NPS and NPS overall comments for all stores\n",
    "\n",
    "#overall_list = NPS_df['OverallCommentLemmatised'].apply(lemma_remove_stopwords)\n",
    "nps_list = NPS_df['NPSCommentLemmatised'].apply(lemma_remove_stopwords2)\n"
   ]
  },
  {
   "cell_type": "code",
   "execution_count": 12,
   "metadata": {},
   "outputs": [
    {
     "name": "stdout",
     "output_type": "stream",
     "text": [
      "Connects ---> connect\n",
      "Connecting ---> connect\n",
      "Connections ---> connect\n",
      "Connected ---> connect\n",
      "Connection ---> connect\n",
      "Connectings ---> connect\n",
      "Connect ---> connect\n",
      "bring huge huge hunger great connect connect connect big big big servic servic servic\n",
      "brings hugely huge hunger great connects connection connect big big big service service service\n"
     ]
    }
   ],
   "source": [
    "from nltk.stem import PorterStemmer\n",
    "porter = PorterStemmer()\n",
    "words = ['Connects','Connecting','Connections','Connected','Connection','Connectings','Connect']\n",
    "wordlist = []\n",
    "for word in words:\n",
    "    print(word,\"--->\",porter.stem(word))\n",
    "\n",
    "test = ['he brings the hugely huge hungers greatest connects connections connected big bigger biggest service services servicing']\n",
    "\n",
    "\n",
    "res = lemma_remove_stopwords2(test)\n",
    "print(res)\n",
    "\n",
    "res = lemma_remove_stopwords(test)\n",
    "print(res)\n"
   ]
  },
  {
   "cell_type": "code",
   "execution_count": 70,
   "metadata": {
    "execution": {
     "iopub.execute_input": "2020-10-06T21:19:43.217126Z",
     "iopub.status.busy": "2020-10-06T21:19:43.201831Z",
     "iopub.status.idle": "2020-10-06T21:19:44.301157Z",
     "shell.execute_reply": "2020-10-06T21:19:44.300459Z"
    },
    "papermill": {
     "duration": 1.161143,
     "end_time": "2020-10-06T21:19:44.301321",
     "exception": false,
     "start_time": "2020-10-06T21:19:43.140178",
     "status": "completed"
    },
    "tags": []
   },
   "outputs": [
    {
     "name": "stdout",
     "output_type": "stream",
     "text": [
      "['tech gavin extrem knowledg patient help', 'friendli knoleg quick', 'help beyond randon total awesom', 'quick reliabl advic give comput purchas', 'friendli staff fast servic']\n"
     ]
    }
   ],
   "source": [
    "\n",
    "# grab the lemmatised overall NPS comments\n",
    "nps_list2 = list(nps_list.values)\n",
    "data_words = list(sent_to_words(nps_list2))\n",
    "len(data_words)\n",
    "\n",
    "def detokenize(text):\n",
    "    return TreebankWordDetokenizer().detokenize(text)\n",
    "data = []\n",
    "\n",
    "for i in range(len(data_words)):\n",
    "    data.append(detokenize(data_words[i]))\n",
    "print(data[:5])"
   ]
  },
  {
   "cell_type": "markdown",
   "metadata": {
    "papermill": {
     "duration": 0.037183,
     "end_time": "2020-10-06T21:19:48.013459",
     "exception": false,
     "start_time": "2020-10-06T21:19:47.976276",
     "status": "completed"
    },
    "tags": []
   },
   "source": [
    "# Label encoding\n",
    "\n",
    "As the dataset is categorical, we need to convert the sentiment labels from Detractor, Passive and Promoter to a float type that our model can understand. To achieve this task, we'll implement the to_categorical method from Keras."
   ]
  },
  {
   "cell_type": "code",
   "execution_count": 10,
   "metadata": {},
   "outputs": [
    {
     "data": {
      "text/html": [
       "<div>\n",
       "<style scoped>\n",
       "    .dataframe tbody tr th:only-of-type {\n",
       "        vertical-align: middle;\n",
       "    }\n",
       "\n",
       "    .dataframe tbody tr th {\n",
       "        vertical-align: top;\n",
       "    }\n",
       "\n",
       "    .dataframe thead th {\n",
       "        text-align: right;\n",
       "    }\n",
       "</style>\n",
       "<table border=\"1\" class=\"dataframe\">\n",
       "  <thead>\n",
       "    <tr style=\"text-align: right;\">\n",
       "      <th></th>\n",
       "      <th>Location</th>\n",
       "      <th>Workforce</th>\n",
       "      <th>NPS® Breakdown</th>\n",
       "      <th>NPS_Code</th>\n",
       "      <th>NPSCommentLemmatised</th>\n",
       "      <th>OverallCommentLemmatised</th>\n",
       "      <th>code</th>\n",
       "    </tr>\n",
       "  </thead>\n",
       "  <tbody>\n",
       "    <tr>\n",
       "      <th>0</th>\n",
       "      <td>871</td>\n",
       "      <td>Precinct</td>\n",
       "      <td>Promoter</td>\n",
       "      <td>2</td>\n",
       "      <td>always gotten jam anything brought HiTech nature</td>\n",
       "      <td>NONE</td>\n",
       "      <td>2</td>\n",
       "    </tr>\n",
       "    <tr>\n",
       "      <th>1</th>\n",
       "      <td>462</td>\n",
       "      <td>Precinct</td>\n",
       "      <td>Promoter</td>\n",
       "      <td>2</td>\n",
       "      <td>receive great service</td>\n",
       "      <td>comment</td>\n",
       "      <td>2</td>\n",
       "    </tr>\n",
       "    <tr>\n",
       "      <th>2</th>\n",
       "      <td>414</td>\n",
       "      <td>Autotech</td>\n",
       "      <td>Promoter</td>\n",
       "      <td>2</td>\n",
       "      <td>service amaze</td>\n",
       "      <td>NONE</td>\n",
       "      <td>2</td>\n",
       "    </tr>\n",
       "    <tr>\n",
       "      <th>3</th>\n",
       "      <td>279</td>\n",
       "      <td>Precinct</td>\n",
       "      <td>Promoter</td>\n",
       "      <td>2</td>\n",
       "      <td>like service lot</td>\n",
       "      <td>Glad around save headache</td>\n",
       "      <td>2</td>\n",
       "    </tr>\n",
       "    <tr>\n",
       "      <th>4</th>\n",
       "      <td>1400</td>\n",
       "      <td>Precinct</td>\n",
       "      <td>Promoter</td>\n",
       "      <td>2</td>\n",
       "      <td>helpful store actually talk person store phone</td>\n",
       "      <td>NONE</td>\n",
       "      <td>2</td>\n",
       "    </tr>\n",
       "  </tbody>\n",
       "</table>\n",
       "</div>"
      ],
      "text/plain": [
       "   Location Workforce NPS® Breakdown  NPS_Code  \\\n",
       "0       871  Precinct       Promoter         2   \n",
       "1       462  Precinct       Promoter         2   \n",
       "2       414  Autotech       Promoter         2   \n",
       "3       279  Precinct       Promoter         2   \n",
       "4      1400  Precinct       Promoter         2   \n",
       "\n",
       "                               NPSCommentLemmatised  \\\n",
       "0  always gotten jam anything brought HiTech nature   \n",
       "1                             receive great service   \n",
       "2                                     service amaze   \n",
       "3                                  like service lot   \n",
       "4    helpful store actually talk person store phone   \n",
       "\n",
       "    OverallCommentLemmatised  code  \n",
       "0                       NONE     2  \n",
       "1                    comment     2  \n",
       "2                       NONE     2  \n",
       "3  Glad around save headache     2  \n",
       "4                       NONE     2  "
      ]
     },
     "execution_count": 10,
     "metadata": {},
     "output_type": "execute_result"
    }
   ],
   "source": [
    "from sklearn.preprocessing import LabelEncoder\n",
    "\n",
    "LE = LabelEncoder()\n",
    "NPS_df['code'] = LE.fit_transform(NPS_df['NPS® Breakdown'])\n",
    "NPS_df.head()"
   ]
  },
  {
   "cell_type": "code",
   "execution_count": 11,
   "metadata": {
    "execution": {
     "iopub.execute_input": "2020-10-06T21:19:48.122784Z",
     "iopub.status.busy": "2020-10-06T21:19:48.121518Z",
     "iopub.status.idle": "2020-10-06T21:19:48.125042Z",
     "shell.execute_reply": "2020-10-06T21:19:48.125481Z"
    },
    "papermill": {
     "duration": 0.074223,
     "end_time": "2020-10-06T21:19:48.125627",
     "exception": false,
     "start_time": "2020-10-06T21:19:48.051404",
     "status": "completed"
    },
    "tags": []
   },
   "outputs": [
    {
     "name": "stdout",
     "output_type": "stream",
     "text": [
      "20496\n"
     ]
    }
   ],
   "source": [
    "labels = np.array(NPS_df['NPS® Breakdown'])\n",
    "y = []\n",
    "for i in labels:\n",
    "    if i == 'Promoter':\n",
    "        y.append(2.0)\n",
    "    elif i == 'Passive':\n",
    "        y.append(1.0)\n",
    "    elif i == 'Detractor':\n",
    "        y.append(0.0)\n",
    "y = np.array(y)\n",
    "labels = tf.keras.utils.to_categorical(y, 3, dtype=\"float32\")\n",
    "del y\n",
    "print(len(labels))"
   ]
  },
  {
   "cell_type": "markdown",
   "metadata": {
    "papermill": {
     "duration": 0.038298,
     "end_time": "2020-10-06T21:19:48.287312",
     "exception": false,
     "start_time": "2020-10-06T21:19:48.249014",
     "status": "completed"
    },
    "tags": []
   },
   "source": [
    "# Data sequencing and splitting\n",
    "\n",
    "We'll implement the Keras tokenizer as well as its pad_sequences method to transform our text data into 3D float data, otherwise our neural networks won't be able to be trained on it."
   ]
  },
  {
   "cell_type": "code",
   "execution_count": 12,
   "metadata": {
    "execution": {
     "iopub.execute_input": "2020-10-06T21:19:48.373707Z",
     "iopub.status.busy": "2020-10-06T21:19:48.372469Z",
     "iopub.status.idle": "2020-10-06T21:19:49.386819Z",
     "shell.execute_reply": "2020-10-06T21:19:49.387562Z"
    },
    "papermill": {
     "duration": 1.062302,
     "end_time": "2020-10-06T21:19:49.387739",
     "exception": false,
     "start_time": "2020-10-06T21:19:48.325437",
     "status": "completed"
    },
    "tags": []
   },
   "outputs": [],
   "source": [
    "from keras.models import Sequential\n",
    "from tensorflow.keras.preprocessing.text import Tokenizer\n",
    "from keras import layers\n",
    "from tensorflow.keras.optimizers import RMSprop, Adam\n",
    "from keras.preprocessing.sequence import pad_sequences\n",
    "from keras import regularizers\n",
    "from keras import backend as K\n",
    "from keras.callbacks import ModelCheckpoint\n",
    "\n",
    "from keras.layers import Dense\n",
    "from keras.layers import Embedding\n",
    "from keras.layers import Conv2D\n",
    "from keras.layers import SimpleRNN\n",
    "from keras.layers import LSTM\n",
    "from keras.layers import Bidirectional\n",
    "\n",
    "max_words = 20000\n",
    "# was 5000\n",
    "max_len = 200\n",
    "\n",
    "tokenizer = Tokenizer(num_words=max_words)\n",
    "tokenizer.fit_on_texts(data)\n",
    "sequences = tokenizer.texts_to_sequences(data)\n",
    "comments = pad_sequences(sequences, maxlen=max_len)"
   ]
  },
  {
   "cell_type": "code",
   "execution_count": 13,
   "metadata": {},
   "outputs": [],
   "source": [
    "#\n",
    "#  use scikit-multilearn since we are using a non-binary (trinary output)\n",
    "import skmultilearn\n",
    "from skmultilearn.model_selection import iterative_train_test_split\n",
    "X_train, y_train, X_test, y_test = iterative_train_test_split(comments, labels, test_size = 0.2)\n"
   ]
  },
  {
   "cell_type": "code",
   "execution_count": 14,
   "metadata": {},
   "outputs": [],
   "source": [
    "from keras.backend import clear_session\n",
    "# Before instantiating a tf.data.Dataset obj & before model creation, call:\n",
    "clear_session()"
   ]
  },
  {
   "cell_type": "markdown",
   "metadata": {
    "papermill": {
     "duration": 0.044723,
     "end_time": "2020-10-06T21:19:49.690338",
     "exception": false,
     "start_time": "2020-10-06T21:19:49.645615",
     "status": "completed"
    },
    "tags": []
   },
   "source": [
    "# Model building\n",
    "\n",
    "In the next cells we experiment with several different Neural Networks. I'll implement sequential models from the Keras API to achieve this task. Essentially, I'll start with a single layer **LSTM** network which is known by achieving good results in NLP tasks when the dataset is relatively small (I could have started with a SimpleRNN which is even simpler, but to be honest it's actually not deployed in production environments because it is too simple - however I'll leave it commented in case you want to know it's built). The next one will be a Bidirectional LSTM model, a more complex one and this particular one is known to achieve great metrics when talking about text classification. To go beyond the classic NLP approach, finally we'll implement a very unusual model: a Convolutional 1D network, known as well by delivering good metrics when talking about NLP. If everything goes ok, we should get the best results with the BidRNN, let's see what happens.\n"
   ]
  },
  {
   "cell_type": "markdown",
   "metadata": {
    "papermill": {
     "duration": 0.045363,
     "end_time": "2020-10-06T21:19:49.779234",
     "exception": false,
     "start_time": "2020-10-06T21:19:49.733871",
     "status": "completed"
    },
    "tags": []
   },
   "source": [
    "## SimpleRNN model (Bonus)"
   ]
  },
  {
   "cell_type": "code",
   "execution_count": null,
   "metadata": {
    "collapsed": true,
    "execution": {
     "iopub.execute_input": "2020-10-06T21:19:49.876465Z",
     "iopub.status.busy": "2020-10-06T21:19:49.875466Z",
     "iopub.status.idle": "2020-10-06T21:19:49.878789Z",
     "shell.execute_reply": "2020-10-06T21:19:49.878237Z"
    },
    "papermill": {
     "duration": 0.054472,
     "end_time": "2020-10-06T21:19:49.878902",
     "exception": false,
     "start_time": "2020-10-06T21:19:49.824430",
     "status": "completed"
    },
    "tags": []
   },
   "outputs": [],
   "source": [
    "model0 = Sequential()\n",
    "model0.add(layers.Embedding(max_words, 15))\n",
    "model0.add(layers.SimpleRNN(15))\n",
    "model0.add(layers.Dense(3,activation='softmax'))\n",
    "\n",
    "log_dir = \"../logs/fit/\" + datetime.datetime.now().strftime(\"%Y%m%d-%H%M%S\")\n",
    "tensorboard_callback = tf.keras.callbacks.TensorBoard(log_dir=log_dir, histogram_freq=1)\n",
    "\n",
    "metric = 'val_accuracy'\n",
    "model0.compile(optimizer='rmsprop',loss='categorical_crossentropy', metrics=['accuracy'])\n",
    "#Implementing model checkpoins to save the best metric and do not lose it on training.\n",
    "checkpoint0 = ModelCheckpoint(\"best_model0.hdf5\", monitor='accuracy', verbose=0, save_best_only=True, mode='auto', save_freq=1, save_weights_only=False)\n",
    "history = model0.fit(X_train, y_train, epochs=10, validation_data=(X_test, y_test), callbacks=[checkpoint0, tensorboard_callback])"
   ]
  },
  {
   "cell_type": "code",
   "execution_count": null,
   "metadata": {},
   "outputs": [],
   "source": [
    "# plot learning curves\n",
    "import matplotlib.pyplot as pyplot\n",
    "\n",
    "pyplot.title('Learning Curves')\n",
    "pyplot.xlabel('Epoch')\n",
    "pyplot.ylabel('Cross Entropy')\n",
    "pyplot.plot(history.history['loss'], label='train')\n",
    "pyplot.plot(history.history['val_loss'], label='val')\n",
    "pyplot.legend()\n",
    "pyplot.show()"
   ]
  },
  {
   "cell_type": "markdown",
   "metadata": {
    "papermill": {
     "duration": 0.044937,
     "end_time": "2020-10-06T21:19:49.968644",
     "exception": false,
     "start_time": "2020-10-06T21:19:49.923707",
     "status": "completed"
    },
    "tags": []
   },
   "source": [
    "## Single LSTM layer model"
   ]
  },
  {
   "cell_type": "code",
   "execution_count": 15,
   "metadata": {
    "execution": {
     "iopub.execute_input": "2020-10-06T21:19:50.068632Z",
     "iopub.status.busy": "2020-10-06T21:19:50.067909Z",
     "iopub.status.idle": "2020-10-06T21:30:02.803265Z",
     "shell.execute_reply": "2020-10-06T21:30:02.805203Z"
    },
    "papermill": {
     "duration": 612.793273,
     "end_time": "2020-10-06T21:30:02.806611",
     "exception": false,
     "start_time": "2020-10-06T21:19:50.013338",
     "status": "completed"
    },
    "scrolled": true,
    "tags": []
   },
   "outputs": [
    {
     "name": "stdout",
     "output_type": "stream",
     "text": [
      "Metal device set to: Apple M1 Pro\n",
      "\n",
      "systemMemory: 16.00 GB\n",
      "maxCacheSize: 5.33 GB\n",
      "\n"
     ]
    },
    {
     "name": "stderr",
     "output_type": "stream",
     "text": [
      "2022-05-16 14:42:45.551652: I tensorflow/core/common_runtime/pluggable_device/pluggable_device_factory.cc:305] Could not identify NUMA node of platform GPU ID 0, defaulting to 0. Your kernel may not have been built with NUMA support.\n",
      "2022-05-16 14:42:45.551788: I tensorflow/core/common_runtime/pluggable_device/pluggable_device_factory.cc:271] Created TensorFlow device (/job:localhost/replica:0/task:0/device:GPU:0 with 0 MB memory) -> physical PluggableDevice (device: 0, name: METAL, pci bus id: <undefined>)\n"
     ]
    },
    {
     "name": "stdout",
     "output_type": "stream",
     "text": [
      "Epoch 1/50\n"
     ]
    },
    {
     "name": "stderr",
     "output_type": "stream",
     "text": [
      "2022-05-16 14:42:45.761639: W tensorflow/core/platform/profile_utils/cpu_utils.cc:128] Failed to get CPU frequency: 0 Hz\n",
      "2022-05-16 14:42:46.595860: I tensorflow/core/grappler/optimizers/custom_graph_optimizer_registry.cc:113] Plugin optimizer for device_type GPU is enabled.\n",
      "2022-05-16 14:42:46.775496: I tensorflow/core/grappler/optimizers/custom_graph_optimizer_registry.cc:113] Plugin optimizer for device_type GPU is enabled.\n",
      "2022-05-16 14:42:47.096649: I tensorflow/core/grappler/optimizers/custom_graph_optimizer_registry.cc:113] Plugin optimizer for device_type GPU is enabled.\n"
     ]
    },
    {
     "name": "stdout",
     "output_type": "stream",
     "text": [
      "513/513 [==============================] - ETA: 0s - loss: 0.8737 - accuracy: 0.5920"
     ]
    },
    {
     "name": "stderr",
     "output_type": "stream",
     "text": [
      "2022-05-16 14:43:26.300294: I tensorflow/core/grappler/optimizers/custom_graph_optimizer_registry.cc:113] Plugin optimizer for device_type GPU is enabled.\n",
      "2022-05-16 14:43:26.347973: I tensorflow/core/grappler/optimizers/custom_graph_optimizer_registry.cc:113] Plugin optimizer for device_type GPU is enabled.\n"
     ]
    },
    {
     "name": "stdout",
     "output_type": "stream",
     "text": [
      "513/513 [==============================] - 44s 83ms/step - loss: 0.8737 - accuracy: 0.5920 - val_loss: 0.7813 - val_accuracy: 0.6323\n",
      "Epoch 2/50\n",
      "513/513 [==============================] - 36s 70ms/step - loss: 0.7466 - accuracy: 0.6623 - val_loss: 0.7423 - val_accuracy: 0.6654\n",
      "Epoch 3/50\n",
      "513/513 [==============================] - 36s 70ms/step - loss: 0.7078 - accuracy: 0.6819 - val_loss: 0.7168 - val_accuracy: 0.6735\n",
      "Epoch 4/50\n",
      "513/513 [==============================] - 36s 71ms/step - loss: 0.6854 - accuracy: 0.6963 - val_loss: 0.7087 - val_accuracy: 0.6891\n",
      "Epoch 5/50\n",
      "513/513 [==============================] - 36s 70ms/step - loss: 0.6732 - accuracy: 0.7019 - val_loss: 0.7079 - val_accuracy: 0.6903\n",
      "Epoch 6/50\n",
      "513/513 [==============================] - 35s 69ms/step - loss: 0.6650 - accuracy: 0.7080 - val_loss: 0.7076 - val_accuracy: 0.6894\n",
      "Epoch 7/50\n",
      "513/513 [==============================] - 36s 70ms/step - loss: 0.6569 - accuracy: 0.7108 - val_loss: 0.7051 - val_accuracy: 0.6881\n",
      "Epoch 8/50\n",
      "513/513 [==============================] - 36s 70ms/step - loss: 0.6542 - accuracy: 0.7110 - val_loss: 0.7075 - val_accuracy: 0.6840\n",
      "Epoch 9/50\n",
      "513/513 [==============================] - 36s 70ms/step - loss: 0.6483 - accuracy: 0.7181 - val_loss: 0.7088 - val_accuracy: 0.6923\n",
      "Epoch 10/50\n",
      "513/513 [==============================] - 35s 69ms/step - loss: 0.6461 - accuracy: 0.7181 - val_loss: 0.7075 - val_accuracy: 0.6872\n",
      "Epoch 11/50\n",
      "513/513 [==============================] - 36s 69ms/step - loss: 0.6441 - accuracy: 0.7192 - val_loss: 0.7079 - val_accuracy: 0.6903\n",
      "Epoch 12/50\n",
      "513/513 [==============================] - 35s 69ms/step - loss: 0.6401 - accuracy: 0.7178 - val_loss: 0.7124 - val_accuracy: 0.6740\n",
      "Epoch 13/50\n",
      "513/513 [==============================] - 36s 70ms/step - loss: 0.6374 - accuracy: 0.7207 - val_loss: 0.7033 - val_accuracy: 0.6874\n",
      "Epoch 14/50\n",
      "513/513 [==============================] - 35s 68ms/step - loss: 0.6332 - accuracy: 0.7244 - val_loss: 0.7131 - val_accuracy: 0.6872\n",
      "Epoch 15/50\n",
      "513/513 [==============================] - 35s 67ms/step - loss: 0.6294 - accuracy: 0.7278 - val_loss: 0.7079 - val_accuracy: 0.6798\n",
      "Epoch 16/50\n",
      "513/513 [==============================] - 35s 68ms/step - loss: 0.6253 - accuracy: 0.7300 - val_loss: 0.7090 - val_accuracy: 0.6842\n",
      "Epoch 17/50\n",
      "513/513 [==============================] - 34s 66ms/step - loss: 0.6252 - accuracy: 0.7244 - val_loss: 0.7049 - val_accuracy: 0.6833\n",
      "Epoch 18/50\n",
      "513/513 [==============================] - 33s 65ms/step - loss: 0.6229 - accuracy: 0.7290 - val_loss: 0.7109 - val_accuracy: 0.6840\n",
      "Epoch 19/50\n",
      "513/513 [==============================] - 33s 64ms/step - loss: 0.6221 - accuracy: 0.7287 - val_loss: 0.7096 - val_accuracy: 0.6811\n",
      "Epoch 20/50\n",
      "513/513 [==============================] - 33s 65ms/step - loss: 0.6194 - accuracy: 0.7318 - val_loss: 0.7117 - val_accuracy: 0.6879\n",
      "Epoch 21/50\n",
      "513/513 [==============================] - 34s 66ms/step - loss: 0.6167 - accuracy: 0.7311 - val_loss: 0.7153 - val_accuracy: 0.6874\n",
      "Epoch 22/50\n",
      "513/513 [==============================] - 34s 66ms/step - loss: 0.6167 - accuracy: 0.7303 - val_loss: 0.7107 - val_accuracy: 0.6845\n",
      "Epoch 23/50\n",
      "513/513 [==============================] - 34s 66ms/step - loss: 0.6149 - accuracy: 0.7349 - val_loss: 0.7147 - val_accuracy: 0.6835\n",
      "Epoch 24/50\n",
      "513/513 [==============================] - 34s 65ms/step - loss: 0.6105 - accuracy: 0.7371 - val_loss: 0.7221 - val_accuracy: 0.6786\n",
      "Epoch 25/50\n",
      "513/513 [==============================] - 37s 72ms/step - loss: 0.6080 - accuracy: 0.7376 - val_loss: 0.7130 - val_accuracy: 0.6845\n",
      "Epoch 26/50\n",
      "513/513 [==============================] - 34s 66ms/step - loss: 0.6107 - accuracy: 0.7373 - val_loss: 0.7123 - val_accuracy: 0.6806\n",
      "Epoch 27/50\n",
      "513/513 [==============================] - 34s 66ms/step - loss: 0.6060 - accuracy: 0.7380 - val_loss: 0.7141 - val_accuracy: 0.6806\n",
      "Epoch 28/50\n",
      "513/513 [==============================] - 33s 65ms/step - loss: 0.6068 - accuracy: 0.7364 - val_loss: 0.7136 - val_accuracy: 0.6850\n",
      "Epoch 29/50\n",
      "513/513 [==============================] - 33s 65ms/step - loss: 0.6035 - accuracy: 0.7391 - val_loss: 0.7168 - val_accuracy: 0.6794\n",
      "Epoch 30/50\n",
      "513/513 [==============================] - 33s 65ms/step - loss: 0.6007 - accuracy: 0.7418 - val_loss: 0.7140 - val_accuracy: 0.6779\n",
      "Epoch 31/50\n",
      "513/513 [==============================] - 33s 65ms/step - loss: 0.5999 - accuracy: 0.7417 - val_loss: 0.7158 - val_accuracy: 0.6811\n",
      "Epoch 32/50\n",
      "513/513 [==============================] - 33s 64ms/step - loss: 0.6016 - accuracy: 0.7422 - val_loss: 0.7192 - val_accuracy: 0.6759\n",
      "Epoch 33/50\n",
      "513/513 [==============================] - 33s 65ms/step - loss: 0.5981 - accuracy: 0.7419 - val_loss: 0.7306 - val_accuracy: 0.6747\n",
      "Epoch 34/50\n",
      "513/513 [==============================] - 34s 66ms/step - loss: 0.5936 - accuracy: 0.7461 - val_loss: 0.7180 - val_accuracy: 0.6828\n",
      "Epoch 35/50\n",
      "513/513 [==============================] - 34s 66ms/step - loss: 0.5976 - accuracy: 0.7425 - val_loss: 0.7331 - val_accuracy: 0.6759\n",
      "Epoch 36/50\n",
      "513/513 [==============================] - 33s 65ms/step - loss: 0.5925 - accuracy: 0.7434 - val_loss: 0.7259 - val_accuracy: 0.6791\n",
      "Epoch 37/50\n",
      "513/513 [==============================] - 32s 63ms/step - loss: 0.5957 - accuracy: 0.7439 - val_loss: 0.7304 - val_accuracy: 0.6786\n",
      "Epoch 38/50\n",
      "513/513 [==============================] - 32s 63ms/step - loss: 0.5934 - accuracy: 0.7464 - val_loss: 0.7242 - val_accuracy: 0.6769\n",
      "Epoch 39/50\n",
      "513/513 [==============================] - 32s 63ms/step - loss: 0.5913 - accuracy: 0.7481 - val_loss: 0.7302 - val_accuracy: 0.6698\n",
      "Epoch 40/50\n",
      "513/513 [==============================] - 32s 63ms/step - loss: 0.5880 - accuracy: 0.7491 - val_loss: 0.7381 - val_accuracy: 0.6750\n",
      "Epoch 41/50\n",
      "513/513 [==============================] - 32s 62ms/step - loss: 0.5857 - accuracy: 0.7472 - val_loss: 0.7280 - val_accuracy: 0.6784\n",
      "Epoch 42/50\n",
      "513/513 [==============================] - 32s 62ms/step - loss: 0.5858 - accuracy: 0.7506 - val_loss: 0.7452 - val_accuracy: 0.6794\n",
      "Epoch 43/50\n",
      "513/513 [==============================] - 32s 62ms/step - loss: 0.5856 - accuracy: 0.7489 - val_loss: 0.7341 - val_accuracy: 0.6796\n",
      "Epoch 44/50\n",
      "513/513 [==============================] - 32s 63ms/step - loss: 0.5848 - accuracy: 0.7497 - val_loss: 0.7278 - val_accuracy: 0.6825\n",
      "Epoch 45/50\n",
      "513/513 [==============================] - 32s 63ms/step - loss: 0.5809 - accuracy: 0.7491 - val_loss: 0.7359 - val_accuracy: 0.6806\n",
      "Epoch 46/50\n",
      "513/513 [==============================] - 32s 62ms/step - loss: 0.5862 - accuracy: 0.7514 - val_loss: 0.7296 - val_accuracy: 0.6784\n",
      "Epoch 47/50\n",
      "513/513 [==============================] - 32s 62ms/step - loss: 0.5813 - accuracy: 0.7498 - val_loss: 0.7379 - val_accuracy: 0.6794\n",
      "Epoch 48/50\n",
      "513/513 [==============================] - 32s 63ms/step - loss: 0.5783 - accuracy: 0.7544 - val_loss: 0.7420 - val_accuracy: 0.6723\n",
      "Epoch 49/50\n",
      "513/513 [==============================] - 32s 63ms/step - loss: 0.5755 - accuracy: 0.7538 - val_loss: 0.7428 - val_accuracy: 0.6811\n",
      "Epoch 50/50\n",
      "513/513 [==============================] - 32s 63ms/step - loss: 0.5766 - accuracy: 0.7516 - val_loss: 0.7416 - val_accuracy: 0.6715\n"
     ]
    }
   ],
   "source": [
    "model1 = Sequential()\n",
    "model1.add(Embedding(max_words, 20))\n",
    "model1.add(LSTM(15,dropout=0.25)) # was .5\n",
    "model1.add(Dense(3,activation='softmax'))\n",
    "\n",
    "log_dir = \"../logs/fit/\" + datetime.datetime.now().strftime(\"%Y%m%d-%H%M%S\")\n",
    "tensorboard_callback = tf.keras.callbacks.TensorBoard(log_dir=log_dir, histogram_freq=1)\n",
    "\n",
    "\n",
    "model1.compile(optimizer='rmsprop',loss='categorical_crossentropy', metrics=['accuracy'])\n",
    "#Implementing model checkpoins to save the best metric and do not lose it on training.\n",
    "checkpoint1 = ModelCheckpoint(\"best_model1.hdf5\", monitor='loss', verbose=0, save_best_only=True, mode='auto', save_freq=1,save_weights_only=False)\n",
    "history = model1.fit(X_train, y_train, epochs=50,validation_data=(X_test, y_test),callbacks=[checkpoint1, tensorboard_callback])"
   ]
  },
  {
   "cell_type": "code",
   "execution_count": 16,
   "metadata": {
    "execution": {
     "iopub.execute_input": "2020-10-06T21:19:50.068632Z",
     "iopub.status.busy": "2020-10-06T21:19:50.067909Z",
     "iopub.status.idle": "2020-10-06T21:30:02.803265Z",
     "shell.execute_reply": "2020-10-06T21:30:02.805203Z"
    },
    "papermill": {
     "duration": 612.793273,
     "end_time": "2020-10-06T21:30:02.806611",
     "exception": false,
     "start_time": "2020-10-06T21:19:50.013338",
     "status": "completed"
    },
    "scrolled": true,
    "tags": []
   },
   "outputs": [
    {
     "name": "stdout",
     "output_type": "stream",
     "text": [
      "Epoch 1/50\n"
     ]
    },
    {
     "name": "stderr",
     "output_type": "stream",
     "text": [
      "2022-05-16 15:46:05.470415: I tensorflow/core/grappler/optimizers/custom_graph_optimizer_registry.cc:113] Plugin optimizer for device_type GPU is enabled.\n",
      "2022-05-16 15:46:05.662865: I tensorflow/core/grappler/optimizers/custom_graph_optimizer_registry.cc:113] Plugin optimizer for device_type GPU is enabled.\n",
      "2022-05-16 15:46:05.950742: I tensorflow/core/grappler/optimizers/custom_graph_optimizer_registry.cc:113] Plugin optimizer for device_type GPU is enabled.\n"
     ]
    },
    {
     "name": "stdout",
     "output_type": "stream",
     "text": [
      "513/513 [==============================] - ETA: 0s - loss: 0.8650 - accuracy: 0.5867"
     ]
    },
    {
     "name": "stderr",
     "output_type": "stream",
     "text": [
      "2022-05-16 15:46:43.568620: I tensorflow/core/grappler/optimizers/custom_graph_optimizer_registry.cc:113] Plugin optimizer for device_type GPU is enabled.\n",
      "2022-05-16 15:46:43.620231: I tensorflow/core/grappler/optimizers/custom_graph_optimizer_registry.cc:113] Plugin optimizer for device_type GPU is enabled.\n"
     ]
    },
    {
     "name": "stdout",
     "output_type": "stream",
     "text": [
      "513/513 [==============================] - 43s 79ms/step - loss: 0.8650 - accuracy: 0.5867 - val_loss: 0.7853 - val_accuracy: 0.6266\n",
      "Epoch 2/50\n",
      "513/513 [==============================] - 35s 68ms/step - loss: 0.7484 - accuracy: 0.6583 - val_loss: 0.7449 - val_accuracy: 0.6642\n",
      "Epoch 3/50\n",
      "513/513 [==============================] - 34s 66ms/step - loss: 0.7219 - accuracy: 0.6773 - val_loss: 0.7325 - val_accuracy: 0.6684\n",
      "Epoch 4/50\n",
      "513/513 [==============================] - 34s 66ms/step - loss: 0.7005 - accuracy: 0.6895 - val_loss: 0.7160 - val_accuracy: 0.6867\n",
      "Epoch 5/50\n",
      "513/513 [==============================] - 34s 66ms/step - loss: 0.6849 - accuracy: 0.6981 - val_loss: 0.7174 - val_accuracy: 0.6720\n",
      "Epoch 6/50\n",
      "513/513 [==============================] - 34s 66ms/step - loss: 0.6919 - accuracy: 0.6977 - val_loss: 0.7085 - val_accuracy: 0.6850\n",
      "Epoch 7/50\n",
      "513/513 [==============================] - 34s 66ms/step - loss: 0.6693 - accuracy: 0.7051 - val_loss: 0.7084 - val_accuracy: 0.6842\n",
      "Epoch 8/50\n",
      "513/513 [==============================] - 34s 66ms/step - loss: 0.6634 - accuracy: 0.7090 - val_loss: 0.7177 - val_accuracy: 0.6750\n",
      "Epoch 9/50\n",
      "513/513 [==============================] - 34s 67ms/step - loss: 0.6609 - accuracy: 0.7100 - val_loss: 0.7145 - val_accuracy: 0.6833\n",
      "Epoch 10/50\n",
      "513/513 [==============================] - 34s 66ms/step - loss: 0.6553 - accuracy: 0.7122 - val_loss: 0.7101 - val_accuracy: 0.6867\n",
      "Epoch 11/50\n",
      "513/513 [==============================] - 34s 67ms/step - loss: 0.6524 - accuracy: 0.7145 - val_loss: 0.7093 - val_accuracy: 0.6845\n",
      "Epoch 12/50\n",
      "513/513 [==============================] - 34s 66ms/step - loss: 0.6493 - accuracy: 0.7181 - val_loss: 0.7072 - val_accuracy: 0.6825\n",
      "Epoch 13/50\n",
      "513/513 [==============================] - 34s 66ms/step - loss: 0.6463 - accuracy: 0.7181 - val_loss: 0.7097 - val_accuracy: 0.6864\n",
      "Epoch 14/50\n",
      "513/513 [==============================] - 34s 67ms/step - loss: 0.6440 - accuracy: 0.7220 - val_loss: 0.7053 - val_accuracy: 0.6867\n",
      "Epoch 15/50\n",
      "513/513 [==============================] - 34s 67ms/step - loss: 0.6391 - accuracy: 0.7222 - val_loss: 0.7149 - val_accuracy: 0.6852\n",
      "Epoch 16/50\n",
      "513/513 [==============================] - 34s 67ms/step - loss: 0.6401 - accuracy: 0.7245 - val_loss: 0.7131 - val_accuracy: 0.6816\n",
      "Epoch 17/50\n",
      "513/513 [==============================] - 35s 67ms/step - loss: 0.6341 - accuracy: 0.7263 - val_loss: 0.7131 - val_accuracy: 0.6772\n",
      "Epoch 18/50\n",
      "513/513 [==============================] - 34s 67ms/step - loss: 0.6333 - accuracy: 0.7293 - val_loss: 0.7123 - val_accuracy: 0.6818\n",
      "Epoch 19/50\n",
      "513/513 [==============================] - 34s 67ms/step - loss: 0.6323 - accuracy: 0.7250 - val_loss: 0.7128 - val_accuracy: 0.6813\n",
      "Epoch 20/50\n",
      "513/513 [==============================] - 34s 67ms/step - loss: 0.6297 - accuracy: 0.7267 - val_loss: 0.7097 - val_accuracy: 0.6820\n",
      "Epoch 21/50\n",
      "513/513 [==============================] - 35s 67ms/step - loss: 0.6269 - accuracy: 0.7311 - val_loss: 0.7139 - val_accuracy: 0.6772\n",
      "Epoch 22/50\n",
      "513/513 [==============================] - 34s 67ms/step - loss: 0.6263 - accuracy: 0.7317 - val_loss: 0.7193 - val_accuracy: 0.6791\n",
      "Epoch 23/50\n",
      "513/513 [==============================] - 33s 65ms/step - loss: 0.6272 - accuracy: 0.7296 - val_loss: 0.7145 - val_accuracy: 0.6803\n",
      "Epoch 24/50\n",
      "513/513 [==============================] - 33s 64ms/step - loss: 0.6268 - accuracy: 0.7271 - val_loss: 0.7140 - val_accuracy: 0.6786\n",
      "Epoch 25/50\n",
      "513/513 [==============================] - 33s 65ms/step - loss: 0.6225 - accuracy: 0.7323 - val_loss: 0.7159 - val_accuracy: 0.6842\n",
      "Epoch 26/50\n",
      "513/513 [==============================] - 33s 64ms/step - loss: 0.6247 - accuracy: 0.7317 - val_loss: 0.7308 - val_accuracy: 0.6850\n",
      "Epoch 27/50\n",
      "513/513 [==============================] - 33s 64ms/step - loss: 0.6188 - accuracy: 0.7354 - val_loss: 0.7216 - val_accuracy: 0.6786\n",
      "Epoch 28/50\n",
      "513/513 [==============================] - 33s 64ms/step - loss: 0.6196 - accuracy: 0.7344 - val_loss: 0.7140 - val_accuracy: 0.6811\n",
      "Epoch 29/50\n",
      "513/513 [==============================] - 33s 64ms/step - loss: 0.6196 - accuracy: 0.7319 - val_loss: 0.7226 - val_accuracy: 0.6877\n",
      "Epoch 30/50\n",
      "513/513 [==============================] - 33s 64ms/step - loss: 0.6192 - accuracy: 0.7310 - val_loss: 0.7288 - val_accuracy: 0.6825\n",
      "Epoch 31/50\n",
      "513/513 [==============================] - 33s 64ms/step - loss: 0.6128 - accuracy: 0.7360 - val_loss: 0.7251 - val_accuracy: 0.6801\n",
      "Epoch 32/50\n",
      "513/513 [==============================] - 34s 66ms/step - loss: 0.6149 - accuracy: 0.7367 - val_loss: 0.7162 - val_accuracy: 0.6823\n",
      "Epoch 33/50\n",
      "513/513 [==============================] - 34s 67ms/step - loss: 0.6112 - accuracy: 0.7369 - val_loss: 0.7187 - val_accuracy: 0.6803\n",
      "Epoch 34/50\n",
      "513/513 [==============================] - 34s 66ms/step - loss: 0.6111 - accuracy: 0.7376 - val_loss: 0.7194 - val_accuracy: 0.6764\n",
      "Epoch 35/50\n",
      "513/513 [==============================] - 34s 67ms/step - loss: 0.6119 - accuracy: 0.7377 - val_loss: 0.7269 - val_accuracy: 0.6740\n",
      "Epoch 36/50\n",
      "513/513 [==============================] - 34s 66ms/step - loss: 0.6115 - accuracy: 0.7405 - val_loss: 0.7222 - val_accuracy: 0.6803\n",
      "Epoch 37/50\n",
      "513/513 [==============================] - 35s 67ms/step - loss: 0.6067 - accuracy: 0.7393 - val_loss: 0.7238 - val_accuracy: 0.6781\n",
      "Epoch 38/50\n",
      "513/513 [==============================] - 34s 67ms/step - loss: 0.6016 - accuracy: 0.7451 - val_loss: 0.7225 - val_accuracy: 0.6784\n",
      "Epoch 39/50\n",
      "513/513 [==============================] - 34s 67ms/step - loss: 0.6058 - accuracy: 0.7413 - val_loss: 0.7290 - val_accuracy: 0.6816\n",
      "Epoch 40/50\n",
      "513/513 [==============================] - 35s 68ms/step - loss: 0.6047 - accuracy: 0.7407 - val_loss: 0.7308 - val_accuracy: 0.6764\n",
      "Epoch 41/50\n",
      "513/513 [==============================] - 34s 67ms/step - loss: 0.6020 - accuracy: 0.7423 - val_loss: 0.7211 - val_accuracy: 0.6816\n",
      "Epoch 42/50\n",
      "513/513 [==============================] - 34s 66ms/step - loss: 0.6034 - accuracy: 0.7405 - val_loss: 0.7332 - val_accuracy: 0.6755\n",
      "Epoch 43/50\n",
      "513/513 [==============================] - 34s 67ms/step - loss: 0.6014 - accuracy: 0.7430 - val_loss: 0.7285 - val_accuracy: 0.6835\n",
      "Epoch 44/50\n",
      "513/513 [==============================] - 34s 67ms/step - loss: 0.6019 - accuracy: 0.7430 - val_loss: 0.7366 - val_accuracy: 0.6808\n",
      "Epoch 45/50\n",
      "513/513 [==============================] - 34s 67ms/step - loss: 0.6009 - accuracy: 0.7426 - val_loss: 0.7277 - val_accuracy: 0.6855\n",
      "Epoch 46/50\n",
      "513/513 [==============================] - 34s 66ms/step - loss: 0.6018 - accuracy: 0.7430 - val_loss: 0.7199 - val_accuracy: 0.6808\n",
      "Epoch 47/50\n",
      "513/513 [==============================] - 34s 66ms/step - loss: 0.5979 - accuracy: 0.7457 - val_loss: 0.7225 - val_accuracy: 0.6820\n",
      "Epoch 48/50\n",
      "513/513 [==============================] - 34s 66ms/step - loss: 0.5918 - accuracy: 0.7494 - val_loss: 0.7410 - val_accuracy: 0.6813\n",
      "Epoch 49/50\n",
      "513/513 [==============================] - 34s 67ms/step - loss: 0.5946 - accuracy: 0.7439 - val_loss: 0.7215 - val_accuracy: 0.6823\n",
      "Epoch 50/50\n",
      "513/513 [==============================] - 34s 66ms/step - loss: 0.5913 - accuracy: 0.7491 - val_loss: 0.7363 - val_accuracy: 0.6757\n"
     ]
    }
   ],
   "source": [
    "# this is generally about the best model so far 5/16/22\n",
    "model1b = Sequential()\n",
    "model1b.add(Embedding(max_words, 20))\n",
    "model1b.add(LSTM(25,dropout=0.4))\n",
    "model1b.add(Dense(10,activation='tanh'))\n",
    "model1b.add(Dense(3,activation='softmax'))\n",
    "\n",
    "log_dir = \"../logs/fit/\" + datetime.datetime.now().strftime(\"%Y%m%d-%H%M%S\")\n",
    "tensorboard_callback = tf.keras.callbacks.TensorBoard(log_dir=log_dir, histogram_freq=1)\n",
    "\n",
    "\n",
    "model1b.compile(optimizer='rmsprop',loss='categorical_crossentropy', metrics=['accuracy'])\n",
    "#Implementing model checkpoins to save the best metric and do not lose it on training.\n",
    "checkpoint4 = ModelCheckpoint(\"best_model1b.hdf5\", monitor='loss', verbose=0, save_best_only=True, mode='auto', save_freq=1,save_weights_only=False)\n",
    "history = model1b.fit(X_train, y_train, epochs=50,validation_data=(X_test, y_test),callbacks=[checkpoint4, tensorboard_callback])"
   ]
  },
  {
   "cell_type": "code",
   "execution_count": 17,
   "metadata": {
    "execution": {
     "iopub.execute_input": "2020-10-06T21:19:50.068632Z",
     "iopub.status.busy": "2020-10-06T21:19:50.067909Z",
     "iopub.status.idle": "2020-10-06T21:30:02.803265Z",
     "shell.execute_reply": "2020-10-06T21:30:02.805203Z"
    },
    "papermill": {
     "duration": 612.793273,
     "end_time": "2020-10-06T21:30:02.806611",
     "exception": false,
     "start_time": "2020-10-06T21:19:50.013338",
     "status": "completed"
    },
    "scrolled": true,
    "tags": []
   },
   "outputs": [
    {
     "name": "stdout",
     "output_type": "stream",
     "text": [
      "Epoch 1/50\n"
     ]
    },
    {
     "name": "stderr",
     "output_type": "stream",
     "text": [
      "2022-05-16 16:14:31.948917: I tensorflow/core/grappler/optimizers/custom_graph_optimizer_registry.cc:113] Plugin optimizer for device_type GPU is enabled.\n",
      "2022-05-16 16:14:32.152792: I tensorflow/core/grappler/optimizers/custom_graph_optimizer_registry.cc:113] Plugin optimizer for device_type GPU is enabled.\n",
      "2022-05-16 16:14:32.440761: I tensorflow/core/grappler/optimizers/custom_graph_optimizer_registry.cc:113] Plugin optimizer for device_type GPU is enabled.\n"
     ]
    },
    {
     "name": "stdout",
     "output_type": "stream",
     "text": [
      "513/513 [==============================] - ETA: 0s - loss: 0.8298 - accuracy: 0.6177"
     ]
    },
    {
     "name": "stderr",
     "output_type": "stream",
     "text": [
      "2022-05-16 16:15:14.530376: I tensorflow/core/grappler/optimizers/custom_graph_optimizer_registry.cc:113] Plugin optimizer for device_type GPU is enabled.\n",
      "2022-05-16 16:15:14.583967: I tensorflow/core/grappler/optimizers/custom_graph_optimizer_registry.cc:113] Plugin optimizer for device_type GPU is enabled.\n"
     ]
    },
    {
     "name": "stdout",
     "output_type": "stream",
     "text": [
      "513/513 [==============================] - 47s 88ms/step - loss: 0.8298 - accuracy: 0.6177 - val_loss: 0.7509 - val_accuracy: 0.6657\n",
      "Epoch 2/50\n",
      "513/513 [==============================] - 38s 74ms/step - loss: 0.7079 - accuracy: 0.6842 - val_loss: 0.7150 - val_accuracy: 0.6803\n",
      "Epoch 3/50\n",
      "513/513 [==============================] - 38s 74ms/step - loss: 0.6786 - accuracy: 0.6990 - val_loss: 0.7146 - val_accuracy: 0.6847\n",
      "Epoch 4/50\n",
      "513/513 [==============================] - 37s 72ms/step - loss: 0.6616 - accuracy: 0.7132 - val_loss: 0.7073 - val_accuracy: 0.6903\n",
      "Epoch 5/50\n",
      "513/513 [==============================] - 36s 71ms/step - loss: 0.6509 - accuracy: 0.7158 - val_loss: 0.7197 - val_accuracy: 0.6742\n",
      "Epoch 6/50\n",
      "513/513 [==============================] - 35s 68ms/step - loss: 0.6416 - accuracy: 0.7198 - val_loss: 0.7065 - val_accuracy: 0.6837\n",
      "Epoch 7/50\n",
      "513/513 [==============================] - 34s 67ms/step - loss: 0.6342 - accuracy: 0.7245 - val_loss: 0.7094 - val_accuracy: 0.6852\n",
      "Epoch 8/50\n",
      "513/513 [==============================] - 34s 65ms/step - loss: 0.6252 - accuracy: 0.7260 - val_loss: 0.7155 - val_accuracy: 0.6781\n",
      "Epoch 9/50\n",
      "513/513 [==============================] - 34s 65ms/step - loss: 0.6147 - accuracy: 0.7325 - val_loss: 0.7274 - val_accuracy: 0.6864\n",
      "Epoch 10/50\n",
      "513/513 [==============================] - 33s 65ms/step - loss: 0.6091 - accuracy: 0.7342 - val_loss: 0.7388 - val_accuracy: 0.6698\n",
      "Epoch 11/50\n",
      "513/513 [==============================] - 34s 66ms/step - loss: 0.6054 - accuracy: 0.7398 - val_loss: 0.7279 - val_accuracy: 0.6764\n",
      "Epoch 12/50\n",
      "513/513 [==============================] - 34s 65ms/step - loss: 0.5961 - accuracy: 0.7426 - val_loss: 0.7442 - val_accuracy: 0.6755\n",
      "Epoch 13/50\n",
      "513/513 [==============================] - 34s 66ms/step - loss: 0.5923 - accuracy: 0.7441 - val_loss: 0.7375 - val_accuracy: 0.6801\n",
      "Epoch 14/50\n",
      "513/513 [==============================] - 34s 66ms/step - loss: 0.5854 - accuracy: 0.7464 - val_loss: 0.7430 - val_accuracy: 0.6728\n",
      "Epoch 15/50\n",
      "513/513 [==============================] - 34s 66ms/step - loss: 0.5822 - accuracy: 0.7480 - val_loss: 0.7490 - val_accuracy: 0.6769\n",
      "Epoch 16/50\n",
      "513/513 [==============================] - 34s 66ms/step - loss: 0.5741 - accuracy: 0.7527 - val_loss: 0.7573 - val_accuracy: 0.6772\n",
      "Epoch 17/50\n",
      "513/513 [==============================] - 34s 66ms/step - loss: 0.5699 - accuracy: 0.7519 - val_loss: 0.7404 - val_accuracy: 0.6674\n",
      "Epoch 18/50\n",
      "513/513 [==============================] - 34s 66ms/step - loss: 0.5644 - accuracy: 0.7555 - val_loss: 0.7646 - val_accuracy: 0.6750\n",
      "Epoch 19/50\n",
      "513/513 [==============================] - 34s 66ms/step - loss: 0.5620 - accuracy: 0.7584 - val_loss: 0.7583 - val_accuracy: 0.6737\n",
      "Epoch 20/50\n",
      "513/513 [==============================] - 34s 66ms/step - loss: 0.5556 - accuracy: 0.7597 - val_loss: 0.7650 - val_accuracy: 0.6713\n",
      "Epoch 21/50\n",
      "513/513 [==============================] - 34s 67ms/step - loss: 0.5499 - accuracy: 0.7624 - val_loss: 0.7588 - val_accuracy: 0.6657\n",
      "Epoch 22/50\n",
      "513/513 [==============================] - 34s 67ms/step - loss: 0.5407 - accuracy: 0.7700 - val_loss: 0.7718 - val_accuracy: 0.6623\n",
      "Epoch 23/50\n",
      "513/513 [==============================] - 34s 67ms/step - loss: 0.5434 - accuracy: 0.7656 - val_loss: 0.7786 - val_accuracy: 0.6745\n",
      "Epoch 24/50\n",
      "513/513 [==============================] - 34s 67ms/step - loss: 0.5395 - accuracy: 0.7698 - val_loss: 0.7790 - val_accuracy: 0.6659\n",
      "Epoch 25/50\n",
      "513/513 [==============================] - 35s 67ms/step - loss: 0.5329 - accuracy: 0.7731 - val_loss: 0.7888 - val_accuracy: 0.6584\n",
      "Epoch 26/50\n",
      "513/513 [==============================] - 36s 69ms/step - loss: 0.5269 - accuracy: 0.7753 - val_loss: 0.7929 - val_accuracy: 0.6659\n",
      "Epoch 27/50\n",
      "513/513 [==============================] - 36s 70ms/step - loss: 0.5264 - accuracy: 0.7764 - val_loss: 0.8059 - val_accuracy: 0.6657\n",
      "Epoch 28/50\n",
      "513/513 [==============================] - 36s 70ms/step - loss: 0.5223 - accuracy: 0.7759 - val_loss: 0.7926 - val_accuracy: 0.6611\n",
      "Epoch 29/50\n",
      "513/513 [==============================] - 36s 70ms/step - loss: 0.5247 - accuracy: 0.7768 - val_loss: 0.8139 - val_accuracy: 0.6618\n",
      "Epoch 30/50\n",
      "513/513 [==============================] - 36s 71ms/step - loss: 0.5142 - accuracy: 0.7830 - val_loss: 0.8230 - val_accuracy: 0.6706\n",
      "Epoch 31/50\n",
      "513/513 [==============================] - 36s 71ms/step - loss: 0.5100 - accuracy: 0.7864 - val_loss: 0.8194 - val_accuracy: 0.6633\n",
      "Epoch 32/50\n",
      "513/513 [==============================] - 36s 71ms/step - loss: 0.5082 - accuracy: 0.7872 - val_loss: 0.8171 - val_accuracy: 0.6691\n",
      "Epoch 33/50\n",
      "513/513 [==============================] - 36s 70ms/step - loss: 0.5034 - accuracy: 0.7874 - val_loss: 0.8496 - val_accuracy: 0.6652\n",
      "Epoch 34/50\n",
      "513/513 [==============================] - 37s 71ms/step - loss: 0.4999 - accuracy: 0.7884 - val_loss: 0.8471 - val_accuracy: 0.6593\n",
      "Epoch 35/50\n",
      "513/513 [==============================] - 36s 70ms/step - loss: 0.4923 - accuracy: 0.7930 - val_loss: 0.8312 - val_accuracy: 0.6706\n",
      "Epoch 36/50\n",
      "513/513 [==============================] - 36s 70ms/step - loss: 0.4941 - accuracy: 0.7895 - val_loss: 0.8491 - val_accuracy: 0.6637\n",
      "Epoch 37/50\n",
      "513/513 [==============================] - 36s 70ms/step - loss: 0.4920 - accuracy: 0.7941 - val_loss: 0.8690 - val_accuracy: 0.6659\n",
      "Epoch 38/50\n",
      "513/513 [==============================] - 36s 70ms/step - loss: 0.4869 - accuracy: 0.7955 - val_loss: 0.8747 - val_accuracy: 0.6613\n",
      "Epoch 39/50\n",
      "513/513 [==============================] - 37s 71ms/step - loss: 0.4857 - accuracy: 0.7950 - val_loss: 0.8563 - val_accuracy: 0.6689\n",
      "Epoch 40/50\n",
      "513/513 [==============================] - 36s 71ms/step - loss: 0.4838 - accuracy: 0.7949 - val_loss: 0.9101 - val_accuracy: 0.6723\n",
      "Epoch 41/50\n",
      "513/513 [==============================] - 37s 71ms/step - loss: 0.4799 - accuracy: 0.7994 - val_loss: 0.8536 - val_accuracy: 0.6567\n",
      "Epoch 42/50\n",
      "513/513 [==============================] - 36s 71ms/step - loss: 0.4779 - accuracy: 0.8001 - val_loss: 0.8989 - val_accuracy: 0.6547\n",
      "Epoch 43/50\n",
      "513/513 [==============================] - 37s 71ms/step - loss: 0.4746 - accuracy: 0.8016 - val_loss: 0.8862 - val_accuracy: 0.6579\n",
      "Epoch 44/50\n",
      "513/513 [==============================] - 37s 72ms/step - loss: 0.4686 - accuracy: 0.8008 - val_loss: 0.8900 - val_accuracy: 0.6674\n",
      "Epoch 45/50\n",
      "513/513 [==============================] - 37s 72ms/step - loss: 0.4708 - accuracy: 0.8041 - val_loss: 0.8962 - val_accuracy: 0.6664\n",
      "Epoch 46/50\n",
      "513/513 [==============================] - 37s 72ms/step - loss: 0.4669 - accuracy: 0.8061 - val_loss: 0.9321 - val_accuracy: 0.6530\n",
      "Epoch 47/50\n",
      "513/513 [==============================] - 37s 71ms/step - loss: 0.4659 - accuracy: 0.8066 - val_loss: 0.8730 - val_accuracy: 0.6435\n",
      "Epoch 48/50\n",
      "513/513 [==============================] - 37s 72ms/step - loss: 0.4619 - accuracy: 0.8099 - val_loss: 0.9119 - val_accuracy: 0.6506\n",
      "Epoch 49/50\n",
      "513/513 [==============================] - 37s 72ms/step - loss: 0.4579 - accuracy: 0.8103 - val_loss: 0.8967 - val_accuracy: 0.6601\n",
      "Epoch 50/50\n",
      "513/513 [==============================] - 37s 72ms/step - loss: 0.4529 - accuracy: 0.8111 - val_loss: 0.9661 - val_accuracy: 0.6584\n"
     ]
    }
   ],
   "source": [
    "model1c = Sequential()\n",
    "model1c.add(Embedding(max_words, 100))\n",
    "model1c.add(LSTM(25,dropout=0.4))\n",
    "model1c.add(Dense(10,activation='relu'))\n",
    "model1c.add(Dense(3,activation='softmax'))\n",
    "\n",
    "log_dir = \"../logs/fit/\" + datetime.datetime.now().strftime(\"%Y%m%d-%H%M%S\")\n",
    "tensorboard_callback = tf.keras.callbacks.TensorBoard(log_dir=log_dir, histogram_freq=1)\n",
    "\n",
    "\n",
    "model1c.compile(optimizer='rmsprop',loss='categorical_crossentropy', metrics=['accuracy'])\n",
    "#Implementing model checkpoins to save the best metric and do not lose it on training.\n",
    "checkpoint5 = ModelCheckpoint(\"best_model1c.hdf5\", monitor='loss', verbose=0, save_best_only=True, mode='auto', save_freq=1,save_weights_only=False)\n",
    "history = model1c.fit(X_train, y_train, epochs=50,validation_data=(X_test, y_test),callbacks=[checkpoint5, tensorboard_callback])"
   ]
  },
  {
   "cell_type": "code",
   "execution_count": 18,
   "metadata": {},
   "outputs": [
    {
     "data": {
      "image/png": "[encoded data removed]",
      "text/plain": [
       "<Figure size 432x288 with 1 Axes>"
      ]
     },
     "metadata": {
      "needs_background": "light"
     },
     "output_type": "display_data"
    }
   ],
   "source": [
    "# plot learning curves\n",
    "import matplotlib.pyplot as pyplot\n",
    "\n",
    "pyplot.title('Learning Curves')\n",
    "pyplot.xlabel('Epoch')\n",
    "pyplot.ylabel('Cross Entropy')\n",
    "pyplot.plot(history.history['loss'], label='train')\n",
    "pyplot.plot(history.history['val_loss'], label='val')\n",
    "pyplot.legend()\n",
    "pyplot.show()"
   ]
  },
  {
   "cell_type": "markdown",
   "metadata": {
    "papermill": {
     "duration": 3.837682,
     "end_time": "2020-10-06T21:30:10.817414",
     "exception": false,
     "start_time": "2020-10-06T21:30:06.979732",
     "status": "completed"
    },
    "tags": []
   },
   "source": [
    "## Bidirectional LTSM model"
   ]
  },
  {
   "cell_type": "code",
   "execution_count": 19,
   "metadata": {
    "execution": {
     "iopub.execute_input": "2020-10-06T21:30:18.875895Z",
     "iopub.status.busy": "2020-10-06T21:30:18.874621Z",
     "iopub.status.idle": "2020-10-06T21:49:59.410271Z",
     "shell.execute_reply": "2020-10-06T21:49:59.411560Z"
    },
    "papermill": {
     "duration": 1184.636954,
     "end_time": "2020-10-06T21:49:59.411827",
     "exception": false,
     "start_time": "2020-10-06T21:30:14.774873",
     "status": "completed"
    },
    "scrolled": true,
    "tags": []
   },
   "outputs": [
    {
     "name": "stdout",
     "output_type": "stream",
     "text": [
      "Epoch 1/50\n"
     ]
    },
    {
     "name": "stderr",
     "output_type": "stream",
     "text": [
      "2022-05-16 16:44:17.647553: I tensorflow/core/grappler/optimizers/custom_graph_optimizer_registry.cc:113] Plugin optimizer for device_type GPU is enabled.\n",
      "2022-05-16 16:44:18.038447: I tensorflow/core/grappler/optimizers/custom_graph_optimizer_registry.cc:113] Plugin optimizer for device_type GPU is enabled.\n",
      "2022-05-16 16:44:18.049990: I tensorflow/core/grappler/optimizers/custom_graph_optimizer_registry.cc:113] Plugin optimizer for device_type GPU is enabled.\n",
      "2022-05-16 16:44:18.508563: I tensorflow/core/grappler/optimizers/custom_graph_optimizer_registry.cc:113] Plugin optimizer for device_type GPU is enabled.\n",
      "2022-05-16 16:44:18.524067: I tensorflow/core/grappler/optimizers/custom_graph_optimizer_registry.cc:113] Plugin optimizer for device_type GPU is enabled.\n"
     ]
    },
    {
     "name": "stdout",
     "output_type": "stream",
     "text": [
      "513/513 [==============================] - ETA: 0s - loss: 0.8928 - accuracy: 0.5832"
     ]
    },
    {
     "name": "stderr",
     "output_type": "stream",
     "text": [
      "2022-05-16 16:45:20.030548: I tensorflow/core/grappler/optimizers/custom_graph_optimizer_registry.cc:113] Plugin optimizer for device_type GPU is enabled.\n",
      "2022-05-16 16:45:20.119311: I tensorflow/core/grappler/optimizers/custom_graph_optimizer_registry.cc:113] Plugin optimizer for device_type GPU is enabled.\n",
      "2022-05-16 16:45:20.127412: I tensorflow/core/grappler/optimizers/custom_graph_optimizer_registry.cc:113] Plugin optimizer for device_type GPU is enabled.\n"
     ]
    },
    {
     "name": "stdout",
     "output_type": "stream",
     "text": [
      "513/513 [==============================] - 71s 131ms/step - loss: 0.8928 - accuracy: 0.5832 - val_loss: 0.7905 - val_accuracy: 0.6357\n",
      "Epoch 2/50\n",
      "513/513 [==============================] - 59s 114ms/step - loss: 0.7577 - accuracy: 0.6597 - val_loss: 0.7526 - val_accuracy: 0.6569\n",
      "Epoch 3/50\n",
      "513/513 [==============================] - 58s 113ms/step - loss: 0.7211 - accuracy: 0.6762 - val_loss: 0.7254 - val_accuracy: 0.6786\n",
      "Epoch 4/50\n",
      "513/513 [==============================] - 57s 110ms/step - loss: 0.6993 - accuracy: 0.6937 - val_loss: 0.7211 - val_accuracy: 0.6808\n",
      "Epoch 5/50\n",
      "513/513 [==============================] - 56s 110ms/step - loss: 0.6870 - accuracy: 0.6972 - val_loss: 0.7239 - val_accuracy: 0.6725\n",
      "Epoch 6/50\n",
      "513/513 [==============================] - 56s 109ms/step - loss: 0.6737 - accuracy: 0.7069 - val_loss: 0.7075 - val_accuracy: 0.6862\n",
      "Epoch 7/50\n",
      "513/513 [==============================] - 56s 110ms/step - loss: 0.6633 - accuracy: 0.7089 - val_loss: 0.7107 - val_accuracy: 0.6786\n",
      "Epoch 8/50\n",
      "513/513 [==============================] - 57s 111ms/step - loss: 0.6575 - accuracy: 0.7164 - val_loss: 0.7037 - val_accuracy: 0.6891\n",
      "Epoch 9/50\n",
      "513/513 [==============================] - 57s 111ms/step - loss: 0.6513 - accuracy: 0.7175 - val_loss: 0.7104 - val_accuracy: 0.6796\n",
      "Epoch 10/50\n",
      "513/513 [==============================] - 58s 113ms/step - loss: 0.6446 - accuracy: 0.7197 - val_loss: 0.7012 - val_accuracy: 0.6908\n",
      "Epoch 11/50\n",
      "513/513 [==============================] - 57s 112ms/step - loss: 0.6385 - accuracy: 0.7270 - val_loss: 0.7026 - val_accuracy: 0.6857\n",
      "Epoch 12/50\n",
      "513/513 [==============================] - 57s 112ms/step - loss: 0.6340 - accuracy: 0.7275 - val_loss: 0.7069 - val_accuracy: 0.6840\n",
      "Epoch 13/50\n",
      "513/513 [==============================] - 57s 111ms/step - loss: 0.6270 - accuracy: 0.7329 - val_loss: 0.7041 - val_accuracy: 0.6852\n",
      "Epoch 14/50\n",
      "513/513 [==============================] - 57s 112ms/step - loss: 0.6245 - accuracy: 0.7325 - val_loss: 0.7132 - val_accuracy: 0.6830\n",
      "Epoch 15/50\n",
      "513/513 [==============================] - 57s 112ms/step - loss: 0.6232 - accuracy: 0.7317 - val_loss: 0.7074 - val_accuracy: 0.6898\n",
      "Epoch 16/50\n",
      "513/513 [==============================] - 57s 112ms/step - loss: 0.6202 - accuracy: 0.7339 - val_loss: 0.7146 - val_accuracy: 0.6808\n",
      "Epoch 17/50\n",
      "513/513 [==============================] - 57s 112ms/step - loss: 0.6134 - accuracy: 0.7392 - val_loss: 0.7113 - val_accuracy: 0.6830\n",
      "Epoch 18/50\n",
      "513/513 [==============================] - 57s 112ms/step - loss: 0.6139 - accuracy: 0.7386 - val_loss: 0.7142 - val_accuracy: 0.6796\n",
      "Epoch 19/50\n",
      "513/513 [==============================] - 58s 113ms/step - loss: 0.6095 - accuracy: 0.7414 - val_loss: 0.7225 - val_accuracy: 0.6786\n",
      "Epoch 20/50\n",
      "513/513 [==============================] - 58s 113ms/step - loss: 0.6074 - accuracy: 0.7399 - val_loss: 0.7166 - val_accuracy: 0.6816\n",
      "Epoch 21/50\n",
      "513/513 [==============================] - 58s 113ms/step - loss: 0.6014 - accuracy: 0.7436 - val_loss: 0.7236 - val_accuracy: 0.6869\n",
      "Epoch 22/50\n",
      "513/513 [==============================] - 58s 113ms/step - loss: 0.6005 - accuracy: 0.7436 - val_loss: 0.7294 - val_accuracy: 0.6769\n",
      "Epoch 23/50\n",
      "513/513 [==============================] - 57s 111ms/step - loss: 0.5992 - accuracy: 0.7442 - val_loss: 0.7245 - val_accuracy: 0.6857\n",
      "Epoch 24/50\n",
      "513/513 [==============================] - 57s 111ms/step - loss: 0.5923 - accuracy: 0.7470 - val_loss: 0.7370 - val_accuracy: 0.6750\n",
      "Epoch 25/50\n",
      "513/513 [==============================] - 56s 109ms/step - loss: 0.5947 - accuracy: 0.7472 - val_loss: 0.7336 - val_accuracy: 0.6818\n",
      "Epoch 26/50\n",
      "513/513 [==============================] - 56s 109ms/step - loss: 0.5896 - accuracy: 0.7472 - val_loss: 0.7393 - val_accuracy: 0.6725\n",
      "Epoch 27/50\n",
      "513/513 [==============================] - 56s 109ms/step - loss: 0.5901 - accuracy: 0.7488 - val_loss: 0.7219 - val_accuracy: 0.6825\n",
      "Epoch 28/50\n",
      "513/513 [==============================] - 55s 108ms/step - loss: 0.5846 - accuracy: 0.7515 - val_loss: 0.7269 - val_accuracy: 0.6830\n",
      "Epoch 29/50\n",
      "513/513 [==============================] - 56s 109ms/step - loss: 0.5863 - accuracy: 0.7541 - val_loss: 0.7460 - val_accuracy: 0.6669\n",
      "Epoch 30/50\n",
      "513/513 [==============================] - 56s 109ms/step - loss: 0.5834 - accuracy: 0.7542 - val_loss: 0.7434 - val_accuracy: 0.6823\n",
      "Epoch 31/50\n",
      "513/513 [==============================] - 56s 109ms/step - loss: 0.5791 - accuracy: 0.7559 - val_loss: 0.7388 - val_accuracy: 0.6772\n",
      "Epoch 32/50\n",
      "513/513 [==============================] - 56s 110ms/step - loss: 0.5789 - accuracy: 0.7547 - val_loss: 0.7464 - val_accuracy: 0.6781\n",
      "Epoch 33/50\n",
      "513/513 [==============================] - 56s 110ms/step - loss: 0.5795 - accuracy: 0.7538 - val_loss: 0.7472 - val_accuracy: 0.6794\n",
      "Epoch 34/50\n",
      "513/513 [==============================] - 56s 110ms/step - loss: 0.5743 - accuracy: 0.7556 - val_loss: 0.7569 - val_accuracy: 0.6776\n",
      "Epoch 35/50\n",
      "513/513 [==============================] - 56s 110ms/step - loss: 0.5748 - accuracy: 0.7577 - val_loss: 0.7397 - val_accuracy: 0.6811\n",
      "Epoch 36/50\n",
      "513/513 [==============================] - 57s 111ms/step - loss: 0.5726 - accuracy: 0.7588 - val_loss: 0.7454 - val_accuracy: 0.6747\n",
      "Epoch 37/50\n",
      "513/513 [==============================] - 58s 113ms/step - loss: 0.5721 - accuracy: 0.7566 - val_loss: 0.7417 - val_accuracy: 0.6772\n",
      "Epoch 38/50\n",
      "513/513 [==============================] - 57s 111ms/step - loss: 0.5703 - accuracy: 0.7597 - val_loss: 0.7705 - val_accuracy: 0.6742\n",
      "Epoch 39/50\n",
      "513/513 [==============================] - 57s 111ms/step - loss: 0.5646 - accuracy: 0.7634 - val_loss: 0.7452 - val_accuracy: 0.6791\n",
      "Epoch 40/50\n",
      "513/513 [==============================] - 57s 112ms/step - loss: 0.5657 - accuracy: 0.7644 - val_loss: 0.7466 - val_accuracy: 0.6767\n",
      "Epoch 41/50\n",
      "513/513 [==============================] - 57s 111ms/step - loss: 0.5640 - accuracy: 0.7638 - val_loss: 0.7537 - val_accuracy: 0.6715\n",
      "Epoch 42/50\n",
      "513/513 [==============================] - 57s 111ms/step - loss: 0.5587 - accuracy: 0.7684 - val_loss: 0.7374 - val_accuracy: 0.6813\n",
      "Epoch 43/50\n",
      "513/513 [==============================] - 57s 111ms/step - loss: 0.5580 - accuracy: 0.7673 - val_loss: 0.7965 - val_accuracy: 0.6530\n",
      "Epoch 44/50\n",
      "513/513 [==============================] - 58s 113ms/step - loss: 0.5573 - accuracy: 0.7672 - val_loss: 0.7574 - val_accuracy: 0.6803\n",
      "Epoch 45/50\n",
      "513/513 [==============================] - 61s 119ms/step - loss: 0.5566 - accuracy: 0.7686 - val_loss: 0.7666 - val_accuracy: 0.6762\n",
      "Epoch 46/50\n",
      "513/513 [==============================] - 60s 117ms/step - loss: 0.5581 - accuracy: 0.7652 - val_loss: 0.7622 - val_accuracy: 0.6720\n",
      "Epoch 47/50\n",
      "513/513 [==============================] - 59s 116ms/step - loss: 0.5521 - accuracy: 0.7687 - val_loss: 0.7616 - val_accuracy: 0.6803\n",
      "Epoch 48/50\n",
      "513/513 [==============================] - 62s 120ms/step - loss: 0.5510 - accuracy: 0.7689 - val_loss: 0.7505 - val_accuracy: 0.6820\n",
      "Epoch 49/50\n",
      "513/513 [==============================] - 61s 119ms/step - loss: 0.5494 - accuracy: 0.7702 - val_loss: 0.7633 - val_accuracy: 0.6779\n",
      "Epoch 50/50\n",
      "513/513 [==============================] - 60s 117ms/step - loss: 0.5497 - accuracy: 0.7705 - val_loss: 0.7674 - val_accuracy: 0.6762\n"
     ]
    }
   ],
   "source": [
    "log_dir = \"../logs/fit/\" + datetime.datetime.now().strftime(\"%Y%m%d-%H%M%S\")\n",
    "tensorboard_callback = tf.keras.callbacks.TensorBoard(log_dir=log_dir, histogram_freq=1)\n",
    "\n",
    "model2 = Sequential()\n",
    "model2.add(Embedding(max_words, 100, input_length=max_len))\n",
    "model2.add(Bidirectional(LSTM(20,dropout=0.6)))\n",
    "model2.add(Dense(10,activation='sigmoid'))\n",
    "model2.add(Dense(3,activation='softmax'))\n",
    "model2.compile(optimizer='rmsprop',loss='categorical_crossentropy', metrics=['accuracy'])\n",
    "#Implementing model checkpoins to save the best metric and do not lose it on training.\n",
    "checkpoint2 = ModelCheckpoint(\"best_model2.hdf5\", monitor='accuracy', verbose=0, save_best_only=True, mode='auto', save_freq=1,save_weights_only=False)\n",
    "history = model2.fit(X_train, y_train, epochs=50, validation_data=(X_test, y_test), callbacks=[checkpoint2, tensorboard_callback])"
   ]
  },
  {
   "cell_type": "code",
   "execution_count": 20,
   "metadata": {},
   "outputs": [
    {
     "data": {
      "image/png": "[encoded data removed]",
      "text/plain": [
       "<Figure size 432x288 with 1 Axes>"
      ]
     },
     "metadata": {
      "needs_background": "light"
     },
     "output_type": "display_data"
    }
   ],
   "source": [
    "# plot learning curves\n",
    "\n",
    "pyplot.title('Learning Curves')\n",
    "pyplot.xlabel('Epoch')\n",
    "pyplot.ylabel('Cross Entropy')\n",
    "pyplot.plot(history.history['loss'], label='train')\n",
    "pyplot.plot(history.history['val_loss'], label='val')\n",
    "pyplot.legend()\n",
    "pyplot.show()"
   ]
  },
  {
   "cell_type": "markdown",
   "metadata": {
    "papermill": {
     "duration": 11.452373,
     "end_time": "2020-10-06T21:50:21.772094",
     "exception": false,
     "start_time": "2020-10-06T21:50:10.319721",
     "status": "completed"
    },
    "tags": []
   },
   "source": [
    "## 1D Convolutional model\n",
    "\n",
    "Before diving into this model, I know by prior experience that it tends to overfit extremely fast on small datasets. In this sense, just will implement it to show you how to do it in case it's of your interest."
   ]
  },
  {
   "cell_type": "code",
   "execution_count": null,
   "metadata": {
    "execution": {
     "iopub.execute_input": "2020-10-06T21:50:43.900261Z",
     "iopub.status.busy": "2020-10-06T21:50:43.899061Z",
     "iopub.status.idle": "2020-10-06T21:56:48.149729Z",
     "shell.execute_reply": "2020-10-06T21:56:48.149055Z"
    },
    "papermill": {
     "duration": 375.351238,
     "end_time": "2020-10-06T21:56:48.149913",
     "exception": false,
     "start_time": "2020-10-06T21:50:32.798675",
     "status": "completed"
    },
    "tags": []
   },
   "outputs": [],
   "source": [
    "# \n",
    "from keras import regularizers\n",
    "log_dir = \"../logs/fit/\" + datetime.datetime.now().strftime(\"%Y%m%d-%H%M%S\")\n",
    "tensorboard_callback = tf.keras.callbacks.TensorBoard(log_dir=log_dir, histogram_freq=1)\n",
    "\n",
    "model3 = Sequential()\n",
    "model3.add(layers.Embedding(max_words, 100, input_length=max_len)) # was 40\n",
    "model3.add(layers.Conv1D(20, 6, activation='relu',kernel_regularizer=regularizers.l1_l2(l1=2e-3, l2=2e-3),bias_regularizer=regularizers.l2(2e-3)))\n",
    "model3.add(layers.MaxPooling1D(5))\n",
    "model3.add(layers.Conv1D(20, 6, activation='relu',kernel_regularizer=regularizers.l1_l2(l1=2e-3, l2=2e-3),bias_regularizer=regularizers.l2(2e-3)))\n",
    "model3.add(layers.GlobalMaxPooling1D())\n",
    "model3.add(layers.Dense(3,activation='softmax'))\n",
    "model3.compile(optimizer='rmsprop', loss='categorical_crossentropy', metrics=['accuracy'])\n",
    "checkpoint3 = ModelCheckpoint(\"best_model3.hdf5\", monitor='accuracy', verbose=0, save_best_only=True, mode='auto', save_freq=1,save_weights_only=False)\n",
    "history = model3.fit(X_train, y_train, epochs=50, validation_data=(X_test, y_test),callbacks=[checkpoint3, tensorboard_callback])"
   ]
  },
  {
   "cell_type": "code",
   "execution_count": null,
   "metadata": {},
   "outputs": [],
   "source": [
    "# plot learning curves\n",
    "import matplotlib.pyplot as pyplot\n",
    "\n",
    "pyplot.title('Learning Curves')\n",
    "pyplot.xlabel('Epoch')\n",
    "pyplot.ylabel('Cross Entropy')\n",
    "pyplot.plot(history.history['loss'], label='train')\n",
    "pyplot.plot(history.history['val_loss'], label='val')\n",
    "pyplot.legend()\n",
    "pyplot.show()"
   ]
  },
  {
   "cell_type": "markdown",
   "metadata": {
    "papermill": {
     "duration": 13.181114,
     "end_time": "2020-10-06T21:57:15.037099",
     "exception": false,
     "start_time": "2020-10-06T21:57:01.855985",
     "status": "completed"
    },
    "tags": []
   },
   "source": [
    "If you check the val_accuracy metric in the training logs you won't find better score than the one achieved by the BidRNN. Again, the previous model is not the best for this task becaue is majorly used for short translation tasks, but the good thing to notice is its speed to train.\n",
    "\n",
    "Let's move on."
   ]
  },
  {
   "cell_type": "markdown",
   "metadata": {
    "papermill": {
     "duration": 13.897718,
     "end_time": "2020-10-06T21:57:43.244943",
     "exception": false,
     "start_time": "2020-10-06T21:57:29.347225",
     "status": "completed"
    },
    "tags": []
   },
   "source": [
    "# Best model validation\n",
    "(Before final commit, the best model obtained was the BidRNN)"
   ]
  },
  {
   "cell_type": "code",
   "execution_count": null,
   "metadata": {
    "execution": {
     "iopub.execute_input": "2020-10-06T21:58:11.467383Z",
     "iopub.status.busy": "2020-10-06T21:58:11.466210Z",
     "iopub.status.idle": "2020-10-06T21:58:12.123269Z",
     "shell.execute_reply": "2020-10-06T21:58:12.122665Z"
    },
    "papermill": {
     "duration": 14.579894,
     "end_time": "2020-10-06T21:58:12.123401",
     "exception": false,
     "start_time": "2020-10-06T21:57:57.543507",
     "status": "completed"
    },
    "tags": []
   },
   "outputs": [],
   "source": [
    "#Let's load the best model obtained during training\n",
    "best_model = keras.models.load_model(\"best_model4.hdf5\")"
   ]
  },
  {
   "cell_type": "code",
   "execution_count": null,
   "metadata": {
    "execution": {
     "iopub.execute_input": "2020-10-06T21:58:39.201557Z",
     "iopub.status.busy": "2020-10-06T21:58:39.200429Z",
     "iopub.status.idle": "2020-10-06T21:58:42.153698Z",
     "shell.execute_reply": "2020-10-06T21:58:42.152736Z"
    },
    "papermill": {
     "duration": 16.163436,
     "end_time": "2020-10-06T21:58:42.153869",
     "exception": false,
     "start_time": "2020-10-06T21:58:25.990433",
     "status": "completed"
    },
    "tags": []
   },
   "outputs": [],
   "source": [
    "test_loss, test_acc = best_model.evaluate(X_test, y_test, verbose=2)\n",
    "print('Model accuracy: ',test_acc)"
   ]
  },
  {
   "cell_type": "code",
   "execution_count": null,
   "metadata": {
    "execution": {
     "iopub.execute_input": "2020-10-06T21:59:08.598704Z",
     "iopub.status.busy": "2020-10-06T21:59:08.597660Z",
     "iopub.status.idle": "2020-10-06T21:59:11.143379Z",
     "shell.execute_reply": "2020-10-06T21:59:11.144225Z"
    },
    "papermill": {
     "duration": 15.873978,
     "end_time": "2020-10-06T21:59:11.144400",
     "exception": false,
     "start_time": "2020-10-06T21:58:55.270422",
     "status": "completed"
    },
    "tags": []
   },
   "outputs": [],
   "source": [
    "predictions = best_model.predict(X_test)"
   ]
  },
  {
   "cell_type": "markdown",
   "metadata": {
    "papermill": {
     "duration": 13.54467,
     "end_time": "2020-10-06T21:59:38.859073",
     "exception": false,
     "start_time": "2020-10-06T21:59:25.314403",
     "status": "completed"
    },
    "tags": []
   },
   "source": [
    "## Confusion matrix\n",
    "\n",
    "Alright, we all know the accuracy is not a good metric to measure how well a model is. That's the reason why I like to always see its confusion matrix, that way I have a better understanding of its classification and generalization ability. Let's plot it."
   ]
  },
  {
   "cell_type": "code",
   "execution_count": null,
   "metadata": {
    "execution": {
     "iopub.execute_input": "2020-10-06T22:00:05.244627Z",
     "iopub.status.busy": "2020-10-06T22:00:05.243340Z",
     "iopub.status.idle": "2020-10-06T22:00:05.261173Z",
     "shell.execute_reply": "2020-10-06T22:00:05.260523Z"
    },
    "papermill": {
     "duration": 13.356845,
     "end_time": "2020-10-06T22:00:05.261290",
     "exception": false,
     "start_time": "2020-10-06T21:59:51.904445",
     "status": "completed"
    },
    "tags": []
   },
   "outputs": [],
   "source": [
    "from sklearn.metrics import confusion_matrix\n",
    "matrix = confusion_matrix(y_test.argmax(axis=1), np.around(predictions, decimals=0).argmax(axis=1))"
   ]
  },
  {
   "cell_type": "code",
   "execution_count": null,
   "metadata": {
    "execution": {
     "iopub.execute_input": "2020-10-06T22:00:32.586908Z",
     "iopub.status.busy": "2020-10-06T22:00:32.586210Z",
     "iopub.status.idle": "2020-10-06T22:00:33.285612Z",
     "shell.execute_reply": "2020-10-06T22:00:33.285009Z"
    },
    "papermill": {
     "duration": 14.015558,
     "end_time": "2020-10-06T22:00:33.285736",
     "exception": false,
     "start_time": "2020-10-06T22:00:19.270178",
     "status": "completed"
    },
    "tags": []
   },
   "outputs": [],
   "source": [
    "import seaborn as sns\n",
    "conf_matrix = pd.DataFrame(matrix, index = ['Detractor','Passive','Promoter'],columns = ['Detractor','Passive','Promoter'])\n",
    "#Normalizing\n",
    "conf_matrix = conf_matrix.astype('float') / conf_matrix.sum(axis=1)[:, np.newaxis]\n",
    "plt.figure(figsize = (15,15))\n",
    "sns.heatmap(conf_matrix, annot=True, annot_kws={\"size\": 15})"
   ]
  },
  {
   "cell_type": "markdown",
   "metadata": {
    "papermill": {
     "duration": 12.906403,
     "end_time": "2020-10-06T22:00:59.275554",
     "exception": false,
     "start_time": "2020-10-06T22:00:46.369151",
     "status": "completed"
    },
    "tags": []
   },
   "source": [
    "Again, the model's score is very poor, but keep in mind it hasn't gone through hyperparameter tuning. Let's see how it performs on some test text."
   ]
  },
  {
   "cell_type": "code",
   "execution_count": null,
   "metadata": {},
   "outputs": [],
   "source": [
    "sentiment = ['Detractor','Passive','Promoter']\n",
    "def predict_nps(input_sentence):\n",
    "    sequence = tokenizer.texts_to_sequences(['this experience has been the worst , want my money back'])\n",
    "    test = pad_sequences(sequence, maxlen=max_len)\n",
    "    print(f'{input_sentence} - {sentiment[np.around(best_model.predict(test), decimals=0).argmax(axis=1)[0]]}')\n",
    "    return\n",
    "\n",
    "\n"
   ]
  },
  {
   "cell_type": "code",
   "execution_count": null,
   "metadata": {
    "execution": {
     "iopub.execute_input": "2020-10-06T22:01:26.949303Z",
     "iopub.status.busy": "2020-10-06T22:01:26.947906Z",
     "iopub.status.idle": "2020-10-06T22:01:26.951809Z",
     "shell.execute_reply": "2020-10-06T22:01:26.951229Z"
    },
    "papermill": {
     "duration": 14.303017,
     "end_time": "2020-10-06T22:01:26.951936",
     "exception": false,
     "start_time": "2020-10-06T22:01:12.648919",
     "status": "completed"
    },
    "tags": []
   },
   "outputs": [],
   "source": [
    "predict_nps('Eric Suchanek is the best agent ever!')\n",
    "predict_nps('i hate youtube ads, they are annoying')"
   ]
  },
  {
   "cell_type": "code",
   "execution_count": null,
   "metadata": {
    "execution": {
     "iopub.execute_input": "2020-10-06T22:01:53.611240Z",
     "iopub.status.busy": "2020-10-06T22:01:53.610198Z",
     "iopub.status.idle": "2020-10-06T22:01:53.680730Z",
     "shell.execute_reply": "2020-10-06T22:01:53.679943Z"
    },
    "papermill": {
     "duration": 13.274625,
     "end_time": "2020-10-06T22:01:53.680880",
     "exception": false,
     "start_time": "2020-10-06T22:01:40.406255",
     "status": "completed"
    },
    "tags": []
   },
   "outputs": [],
   "source": []
  },
  {
   "cell_type": "code",
   "execution_count": null,
   "metadata": {
    "execution": {
     "iopub.execute_input": "2020-10-06T22:02:21.215521Z",
     "iopub.status.busy": "2020-10-06T22:02:21.214548Z",
     "iopub.status.idle": "2020-10-06T22:02:21.272639Z",
     "shell.execute_reply": "2020-10-06T22:02:21.271230Z"
    },
    "papermill": {
     "duration": 14.445195,
     "end_time": "2020-10-06T22:02:21.272790",
     "exception": false,
     "start_time": "2020-10-06T22:02:06.827595",
     "status": "completed"
    },
    "tags": []
   },
   "outputs": [],
   "source": [
    "sequence = tokenizer.texts_to_sequences(['Eric Suchanek is the best agent ever!'])\n",
    "test = pad_sequences(sequence, maxlen=max_len)\n",
    "sentiment[np.around(best_model.predict(test), decimals=0).argmax(axis=1)[0]]"
   ]
  },
  {
   "cell_type": "code",
   "execution_count": null,
   "metadata": {
    "execution": {
     "iopub.execute_input": "2020-10-06T22:02:48.026609Z",
     "iopub.status.busy": "2020-10-06T22:02:48.025563Z",
     "iopub.status.idle": "2020-10-06T22:02:48.086453Z",
     "shell.execute_reply": "2020-10-06T22:02:48.085808Z"
    },
    "papermill": {
     "duration": 13.396502,
     "end_time": "2020-10-06T22:02:48.086621",
     "exception": false,
     "start_time": "2020-10-06T22:02:34.690119",
     "status": "completed"
    },
    "tags": []
   },
   "outputs": [],
   "source": [
    "sequence = tokenizer.texts_to_sequences(['i hate youtube ads, they are annoying'])\n",
    "test = pad_sequences(sequence, maxlen=max_len)\n",
    "sentiment[np.around(best_model.predict(test), decimals=0).argmax(axis=1)[0]]"
   ]
  },
  {
   "cell_type": "code",
   "execution_count": null,
   "metadata": {
    "execution": {
     "iopub.execute_input": "2020-10-06T22:03:14.961947Z",
     "iopub.status.busy": "2020-10-06T22:03:14.960920Z",
     "iopub.status.idle": "2020-10-06T22:03:15.014373Z",
     "shell.execute_reply": "2020-10-06T22:03:15.013738Z"
    },
    "papermill": {
     "duration": 13.646468,
     "end_time": "2020-10-06T22:03:15.014510",
     "exception": false,
     "start_time": "2020-10-06T22:03:01.368042",
     "status": "completed"
    },
    "tags": []
   },
   "outputs": [],
   "source": [
    "sequence = tokenizer.texts_to_sequences(['i really loved how the technician helped me with the issue that i had'])\n",
    "test = pad_sequences(sequence, maxlen=max_len)\n",
    "sentiment[np.around(best_model.predict(test), decimals=0).argmax(axis=1)[0]]"
   ]
  },
  {
   "cell_type": "markdown",
   "metadata": {},
   "source": []
  }
 ],
 "metadata": {
  "interpreter": {
   "hash": "f2ae5d3a08a6e204c8c8cee8069ee9bbd2ab88ccb9eee13930db12104613cdbd"
  },
  "kernelspec": {
   "display_name": "Python 3.9.12 ('ai_m1new')",
   "language": "python",
   "name": "python3"
  },
  "language_info": {
   "codemirror_mode": {
    "name": "ipython",
    "version": 3
   },
   "file_extension": ".py",
   "mimetype": "text/x-python",
   "name": "python",
   "nbconvert_exporter": "python",
   "pygments_lexer": "ipython3",
   "version": "3.9.12"
  },
  "papermill": {
   "duration": 2724.650172,
   "end_time": "2020-10-06T22:04:52.151005",
   "environment_variables": {},
   "exception": null,
   "input_path": "__notebook__.ipynb",
   "output_path": "__notebook__.ipynb",
   "parameters": {},
   "start_time": "2020-10-06T21:19:27.500833",
   "version": "2.1.0"
  }
 },
 "nbformat": 4,
 "nbformat_minor": 4
}
