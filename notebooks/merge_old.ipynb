{
 "cells": [
  {
   "cell_type": "code",
   "execution_count": 1,
   "metadata": {},
   "outputs": [],
   "source": [
    "import os\n",
    "import glob\n",
    "import pandas as pd\n",
    "from bby.util import NPS_merge_old\n"
   ]
  },
  {
   "cell_type": "code",
   "execution_count": 2,
   "metadata": {},
   "outputs": [
    {
     "name": "stdout",
     "output_type": "stream",
     "text": [
      "1/8 Reading ../data/raw/old/export_Main Hierarchy_NTL.2022_06_07.xlsx\n",
      "    Read: 109218 records from ../data/raw/old/export_Main Hierarchy_NTL.2022_06_07.xlsx\n",
      "2/8 Reading ../data/raw/old/export_Main Hierarchy_NTL.2022_05_27.xlsx\n",
      "    Read: 130334 records from ../data/raw/old/export_Main Hierarchy_NTL.2022_05_27.xlsx\n",
      "3/8 Reading ../data/raw/old/export_Main Hierarchy_NTL.2022_06_01.xlsx\n",
      "    Read: 103737 records from ../data/raw/old/export_Main Hierarchy_NTL.2022_06_01.xlsx\n",
      "4/8 Reading ../data/raw/old/export_Main Hierarchy_NTL.2022_05_30.xlsx\n",
      "    Read: 101553 records from ../data/raw/old/export_Main Hierarchy_NTL.2022_05_30.xlsx\n",
      "5/8 Reading ../data/raw/old/export_Main Hierarchy_NTL.2022_06_20.xlsx\n",
      "    Read: 121609 records from ../data/raw/old/export_Main Hierarchy_NTL.2022_06_20.xlsx\n",
      "6/8 Reading ../data/raw/old/export_Main Hierarchy_NTL.2022_06_13.xlsx\n",
      "    Read: 114847 records from ../data/raw/old/export_Main Hierarchy_NTL.2022_06_13.xlsx\n",
      "7/8 Reading ../data/raw/old/export_Main Hierarchy_NTL.2022_06_23xlsx.xlsx\n",
      "    Read: 124899 records from ../data/raw/old/export_Main Hierarchy_NTL.2022_06_23xlsx.xlsx\n",
      "8/8 Reading ../data/raw/old/export_Main Hierarchy_NTL.2022_07_05.xlsx\n",
      "    Read: 94424 records from ../data/raw/old/export_Main Hierarchy_NTL.2022_07_05.xlsx\n",
      "Newly combined dataset has 167831 entries.\n",
      "Wrote file: ../data/raw/NPS_NATL_archive.xlsx with 167831 entries.\n"
     ]
    }
   ],
   "source": [
    "NPS_merge_old()"
   ]
  },
  {
   "cell_type": "code",
   "execution_count": null,
   "metadata": {},
   "outputs": [],
   "source": []
  }
 ],
 "metadata": {
  "kernelspec": {
   "display_name": "Python 3.8.0 ('aigpu')",
   "language": "python",
   "name": "python3"
  },
  "language_info": {
   "codemirror_mode": {
    "name": "ipython",
    "version": 3
   },
   "file_extension": ".py",
   "mimetype": "text/x-python",
   "name": "python",
   "nbconvert_exporter": "python",
   "pygments_lexer": "ipython3",
   "version": "3.8.0"
  },
  "orig_nbformat": 4,
  "vscode": {
   "interpreter": {
    "hash": "8ee8fbf491c2dc09f1850242389295773ac6375f10ce9efdb2142efbd90a9151"
   }
  }
 },
 "nbformat": 4,
 "nbformat_minor": 2
}
