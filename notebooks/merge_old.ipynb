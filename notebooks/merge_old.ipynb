{
 "cells": [
  {
   "cell_type": "code",
   "execution_count": 5,
   "metadata": {},
   "outputs": [],
   "source": [
    "import os\n",
    "import glob\n",
    "import pandas as pd\n",
    "from bby.util import NPS_merge_old\n"
   ]
  },
  {
   "cell_type": "markdown",
   "metadata": {},
   "source": [
    "## merge_old.ipynb\n",
    "Program reads raw NPS .xlsx files from ../data/raw/old and concatenates all unique respids to make an aggregated .csv file. This is needed since the system truncates the total report to around 100,000 comments on a quarterly basis.\n",
    "*Author: Eric G. Suchanek, PhD."
   ]
  },
  {
   "cell_type": "code",
   "execution_count": 4,
   "metadata": {},
   "outputs": [
    {
     "name": "stdout",
     "output_type": "stream",
     "text": [
      "1/9 Reading ../data/raw/old/export_Main Hierarchy_NTL.2022_07_10.xlsx\n",
      "    Read: 100868 records from ../data/raw/old/export_Main Hierarchy_NTL.2022_07_10.xlsx\n",
      "2/9 Reading ../data/raw/old/export_Main Hierarchy_NTL.2022_06_07.xlsx\n",
      "    Read: 109218 records from ../data/raw/old/export_Main Hierarchy_NTL.2022_06_07.xlsx\n",
      "3/9 Reading ../data/raw/old/export_Main Hierarchy_NTL.2022_05_27.xlsx\n",
      "    Read: 130334 records from ../data/raw/old/export_Main Hierarchy_NTL.2022_05_27.xlsx\n",
      "4/9 Reading ../data/raw/old/export_Main Hierarchy_NTL.2022_06_01.xlsx\n",
      "    Read: 103737 records from ../data/raw/old/export_Main Hierarchy_NTL.2022_06_01.xlsx\n",
      "5/9 Reading ../data/raw/old/export_Main Hierarchy_NTL.2022_05_30.xlsx\n",
      "    Read: 101553 records from ../data/raw/old/export_Main Hierarchy_NTL.2022_05_30.xlsx\n",
      "6/9 Reading ../data/raw/old/export_Main Hierarchy_NTL.2022_06_20.xlsx\n",
      "    Read: 121609 records from ../data/raw/old/export_Main Hierarchy_NTL.2022_06_20.xlsx\n",
      "7/9 Reading ../data/raw/old/export_Main Hierarchy_NTL.2022_06_13.xlsx\n",
      "    Read: 114847 records from ../data/raw/old/export_Main Hierarchy_NTL.2022_06_13.xlsx\n",
      "8/9 Reading ../data/raw/old/export_Main Hierarchy_NTL.2022_06_23xlsx.xlsx\n",
      "    Read: 124899 records from ../data/raw/old/export_Main Hierarchy_NTL.2022_06_23xlsx.xlsx\n",
      "9/9 Reading ../data/raw/old/export_Main Hierarchy_NTL.2022_07_05.xlsx\n",
      "    Read: 94424 records from ../data/raw/old/export_Main Hierarchy_NTL.2022_07_05.xlsx\n",
      "Newly combined dataset has 174275 entries.\n",
      "Wrote file: ../data/raw/NPS_NATL_archive.xlsx with 174275 entries.\n"
     ]
    }
   ],
   "source": [
    "NPS_merge_old()"
   ]
  },
  {
   "cell_type": "code",
   "execution_count": null,
   "metadata": {},
   "outputs": [],
   "source": []
  }
 ],
 "metadata": {
  "kernelspec": {
   "display_name": "Python 3.9.13",
   "language": "python",
   "name": "python3"
  },
  "language_info": {
   "codemirror_mode": {
    "name": "ipython",
    "version": 3
   },
   "file_extension": ".py",
   "mimetype": "text/x-python",
   "name": "python",
   "nbconvert_exporter": "python",
   "pygments_lexer": "ipython3",
   "version": "3.9.13"
  },
  "orig_nbformat": 4,
  "vscode": {
   "interpreter": {
    "hash": "0e9fb08708a348826ea2596edb892bc9ad5e5b82e2f5c7730c1edba9ecbcf32d"
   }
  }
 },
 "nbformat": 4,
 "nbformat_minor": 2
}
